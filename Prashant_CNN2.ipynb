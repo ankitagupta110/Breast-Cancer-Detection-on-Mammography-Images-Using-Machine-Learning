{
  "cells": [
    {
      "cell_type": "code",
      "source": [
        "from google.colab import drive\n",
        "drive.mount('/content/drive')"
      ],
      "metadata": {
        "colab": {
          "base_uri": "https://localhost:8080/"
        },
        "id": "CPJd4UDdlgEd",
        "outputId": "c3467231-3a91-4776-9220-7f68620d04fe"
      },
      "id": "CPJd4UDdlgEd",
      "execution_count": 1,
      "outputs": [
        {
          "output_type": "stream",
          "name": "stdout",
          "text": [
            "Mounted at /content/drive\n"
          ]
        }
      ]
    },
    {
      "cell_type": "code",
      "execution_count": 2,
      "id": "d00fa98d",
      "metadata": {
        "_cell_guid": "409d1187-676f-4162-bdc4-0fc70eb2f261",
        "_uuid": "5c70eabf-cdfa-4f9a-95fd-07bf48c51416",
        "execution": {
          "iopub.execute_input": "2022-02-10T13:00:19.794871Z",
          "iopub.status.busy": "2022-02-10T13:00:19.793353Z",
          "iopub.status.idle": "2022-02-10T13:00:19.991765Z",
          "shell.execute_reply": "2022-02-10T13:00:19.990755Z",
          "shell.execute_reply.started": "2021-11-20T15:21:12.700101Z"
        },
        "jupyter": {
          "outputs_hidden": false
        },
        "papermill": {
          "duration": 0.234889,
          "end_time": "2022-02-10T13:00:19.991977",
          "exception": false,
          "start_time": "2022-02-10T13:00:19.757088",
          "status": "completed"
        },
        "tags": [],
        "colab": {
          "base_uri": "https://localhost:8080/"
        },
        "id": "d00fa98d",
        "outputId": "9e9ae50a-166f-4ff8-9f4f-1276cbd32e97"
      },
      "outputs": [
        {
          "output_type": "stream",
          "name": "stdout",
          "text": [
            "/content/drive/MyDrive/archive/Info.txt\n",
            "/content/drive/MyDrive/archive/all-mias.tar.gz\n",
            "/content/drive/MyDrive/archive/all_mias_scans.h5\n",
            "/content/drive/MyDrive/archive/slicedImgNEW1.h5/slicedImgNEW1.h5\n",
            "/content/drive/MyDrive/archive/slicedImg1.h5/slicedImg1.h5\n",
            "/content/drive/MyDrive/archive/csvfiles/INBreast_config.csv\n",
            "/content/drive/MyDrive/archive/INbreast Release 1.0/INbreast.csv\n",
            "/content/drive/MyDrive/archive/INbreast Release 1.0/INbreast.xls\n",
            "/content/drive/MyDrive/archive/INbreast Release 1.0/README.txt\n",
            "/content/drive/MyDrive/archive/INbreast Release 1.0/benign/1000_C_0334_1.LEFT_CC.LJPEG.1_highpass.png\n",
            "/content/drive/MyDrive/archive/INbreast Release 1.0/AllDICOMs/20586908_6c613a14b80a8591_MG_R_CC_ANON.dcm\n",
            "/content/drive/MyDrive/archive/INbreast Release 1.0/AllDICOMs/20586934_6c613a14b80a8591_MG_L_CC_ANON.dcm\n",
            "/content/drive/MyDrive/archive/INbreast Release 1.0/AllDICOMs/20586960_6c613a14b80a8591_MG_R_ML_ANON.dcm\n",
            "/content/drive/MyDrive/archive/INbreast Release 1.0/AllDICOMs/20586986_6c613a14b80a8591_MG_L_ML_ANON.dcm\n",
            "/content/drive/MyDrive/archive/INbreast Release 1.0/AllDICOMs/20587054_b6a4f750c6df4f90_MG_R_CC_ANON.dcm\n",
            "/content/drive/MyDrive/archive/INbreast Release 1.0/AllDICOMs/read_mixed_csv.m\n",
            "/content/drive/MyDrive/archive/INbreast Release 1.0/AllDICOMs/inbreastBuilder.m\n",
            "/content/drive/MyDrive/archive/INbreast Release 1.0/Cancer/1001_C_0031_1.RIGHT_MLO.LJPEG.1_highpass.png\n",
            "/content/drive/MyDrive/archive/INbreast Release 1.0/AllXML/20586934.xml\n",
            "/content/drive/MyDrive/archive/INbreast Release 1.0/AllXML/20586908.xml\n",
            "/content/drive/MyDrive/archive/INbreast Release 1.0/AllROI/20586934.roi\n",
            "/content/drive/MyDrive/archive/INbreast Release 1.0/AllROI/20586960.roi\n",
            "/content/drive/MyDrive/archive/INbreast Release 1.0/AllROI/20586908.roi\n",
            "/content/drive/MyDrive/archive/INbreast Release 1.0/Normal/1000_A_0358_1.RIGHT_CC.LJPEG.1_highpass.png\n",
            "/content/drive/MyDrive/archive/INbreast Release 1.0/MedicalReports/0b7396cdccacca82.txt\n",
            "/content/drive/MyDrive/archive/INbreast Release 1.0/MedicalReports/0c735e8768d276b4.txt\n",
            "/content/drive/MyDrive/archive/INbreast Release 1.0/MedicalReports/1e4b534393d18753.txt\n",
            "/content/drive/MyDrive/archive/INbreast Release 1.0/PectoralMuscle/Pectoral Muscle ROI/20586986_muscle.roi\n",
            "/content/drive/MyDrive/archive/INbreast Release 1.0/PectoralMuscle/Pectoral Muscle ROI/20587080_muscle.roi\n",
            "/content/drive/MyDrive/archive/INbreast Release 1.0/PectoralMuscle/Pectoral Muscle ROI/20586960_muscle.roi\n",
            "/content/drive/MyDrive/archive/INbreast Release 1.0/PectoralMuscle/Pectoral Muscle XML/20586986_muscle.xml\n",
            "/content/drive/MyDrive/archive/INbreast Release 1.0/PectoralMuscle/Pectoral Muscle XML/20587200_muscle.xml\n",
            "/content/drive/MyDrive/archive/INbreast Release 1.0/PectoralMuscle/Pectoral Muscle XML/20586960_muscle.xml\n",
            "/content/drive/MyDrive/archive/INbreast Release 1.0/PectoralMuscle/Pectoral Muscle XML/20587080_muscle.xml\n",
            "/content/drive/MyDrive/archive/all-mias/mdb003.pgm\n",
            "/content/drive/MyDrive/archive/all-mias/mdb002.pgm\n",
            "/content/drive/MyDrive/archive/all-mias/mdb014.pgm\n",
            "/content/drive/MyDrive/archive/all-mias/mdb016.pgm\n",
            "/content/drive/MyDrive/archive/all-mias/mdb006.pgm\n",
            "/content/drive/MyDrive/archive/all-mias/Info.txt\n",
            "/content/drive/MyDrive/archive/all-mias/Licence.txt\n",
            "/content/drive/MyDrive/archive/all-mias/mdb012.pgm\n",
            "/content/drive/MyDrive/archive/all-mias/mdb018.pgm\n",
            "/content/drive/MyDrive/archive/all-mias/mdb013.pgm\n",
            "/content/drive/MyDrive/archive/all-mias/mdb017.pgm\n",
            "/content/drive/MyDrive/archive/all-mias/mdb004.pgm\n",
            "/content/drive/MyDrive/archive/all-mias/mdb010.pgm\n",
            "/content/drive/MyDrive/archive/all-mias/mdb001.pgm\n",
            "/content/drive/MyDrive/archive/all-mias/mdb007.pgm\n",
            "/content/drive/MyDrive/archive/all-mias/mdb015.pgm\n",
            "/content/drive/MyDrive/archive/all-mias/mdb008.pgm\n",
            "/content/drive/MyDrive/archive/all-mias/mdb011.pgm\n",
            "/content/drive/MyDrive/archive/all-mias/mdb009.pgm\n",
            "/content/drive/MyDrive/archive/all-mias/README\n",
            "/content/drive/MyDrive/archive/all-mias/mdb005.pgm\n",
            "/content/drive/MyDrive/archive/all-mias/mdb019.pgm\n",
            "/content/drive/MyDrive/archive/all-mias/mdb021.pgm\n",
            "/content/drive/MyDrive/archive/all-mias/mdb024.pgm\n",
            "/content/drive/MyDrive/archive/all-mias/mdb035.pgm\n",
            "/content/drive/MyDrive/archive/all-mias/mdb030.pgm\n",
            "/content/drive/MyDrive/archive/all-mias/mdb039.pgm\n",
            "/content/drive/MyDrive/archive/all-mias/mdb020.pgm\n",
            "/content/drive/MyDrive/archive/all-mias/mdb040.pgm\n",
            "/content/drive/MyDrive/archive/all-mias/mdb041.pgm\n",
            "/content/drive/MyDrive/archive/all-mias/mdb029.pgm\n",
            "/content/drive/MyDrive/archive/all-mias/mdb023.pgm\n",
            "/content/drive/MyDrive/archive/all-mias/mdb025.pgm\n",
            "/content/drive/MyDrive/archive/all-mias/mdb034.pgm\n",
            "/content/drive/MyDrive/archive/all-mias/mdb027.pgm\n",
            "/content/drive/MyDrive/archive/all-mias/mdb026.pgm\n",
            "/content/drive/MyDrive/archive/all-mias/mdb037.pgm\n",
            "/content/drive/MyDrive/archive/all-mias/mdb022.pgm\n",
            "/content/drive/MyDrive/archive/all-mias/mdb036.pgm\n",
            "/content/drive/MyDrive/archive/all-mias/mdb032.pgm\n",
            "/content/drive/MyDrive/archive/all-mias/mdb033.pgm\n",
            "/content/drive/MyDrive/archive/all-mias/mdb028.pgm\n",
            "/content/drive/MyDrive/archive/all-mias/mdb042.pgm\n",
            "/content/drive/MyDrive/archive/all-mias/mdb031.pgm\n",
            "/content/drive/MyDrive/archive/all-mias/mdb038.pgm\n",
            "/content/drive/MyDrive/archive/all-mias/mdb057.pgm\n",
            "/content/drive/MyDrive/archive/all-mias/mdb044.pgm\n",
            "/content/drive/MyDrive/archive/all-mias/mdb058.pgm\n",
            "/content/drive/MyDrive/archive/all-mias/mdb061.pgm\n",
            "/content/drive/MyDrive/archive/all-mias/mdb067.pgm\n",
            "/content/drive/MyDrive/archive/all-mias/mdb047.pgm\n",
            "/content/drive/MyDrive/archive/all-mias/mdb051.pgm\n",
            "/content/drive/MyDrive/archive/all-mias/mdb049.pgm\n",
            "/content/drive/MyDrive/archive/all-mias/mdb056.pgm\n",
            "/content/drive/MyDrive/archive/all-mias/mdb055.pgm\n",
            "/content/drive/MyDrive/archive/all-mias/mdb043.pgm\n",
            "/content/drive/MyDrive/archive/all-mias/mdb052.pgm\n",
            "/content/drive/MyDrive/archive/all-mias/mdb053.pgm\n",
            "/content/drive/MyDrive/archive/all-mias/mdb060.pgm\n",
            "/content/drive/MyDrive/archive/all-mias/mdb048.pgm\n",
            "/content/drive/MyDrive/archive/all-mias/mdb054.pgm\n",
            "/content/drive/MyDrive/archive/all-mias/mdb064.pgm\n",
            "/content/drive/MyDrive/archive/all-mias/mdb059.pgm\n",
            "/content/drive/MyDrive/archive/all-mias/mdb066.pgm\n",
            "/content/drive/MyDrive/archive/all-mias/mdb046.pgm\n",
            "/content/drive/MyDrive/archive/all-mias/mdb062.pgm\n",
            "/content/drive/MyDrive/archive/all-mias/mdb065.pgm\n",
            "/content/drive/MyDrive/archive/all-mias/mdb045.pgm\n",
            "/content/drive/MyDrive/archive/all-mias/mdb050.pgm\n",
            "/content/drive/MyDrive/archive/all-mias/mdb063.pgm\n",
            "/content/drive/MyDrive/archive/all-mias/mdb068.pgm\n",
            "/content/drive/MyDrive/archive/all-mias/mdb080.pgm\n",
            "/content/drive/MyDrive/archive/all-mias/mdb077.pgm\n",
            "/content/drive/MyDrive/archive/all-mias/mdb085.pgm\n",
            "/content/drive/MyDrive/archive/all-mias/mdb076.pgm\n",
            "/content/drive/MyDrive/archive/all-mias/mdb084.pgm\n",
            "/content/drive/MyDrive/archive/all-mias/mdb070.pgm\n",
            "/content/drive/MyDrive/archive/all-mias/mdb075.pgm\n",
            "/content/drive/MyDrive/archive/all-mias/mdb078.pgm\n",
            "/content/drive/MyDrive/archive/all-mias/mdb091.pgm\n",
            "/content/drive/MyDrive/archive/all-mias/mdb072.pgm\n",
            "/content/drive/MyDrive/archive/all-mias/mdb089.pgm\n",
            "/content/drive/MyDrive/archive/all-mias/mdb086.pgm\n",
            "/content/drive/MyDrive/archive/all-mias/mdb069.pgm\n",
            "/content/drive/MyDrive/archive/all-mias/mdb088.pgm\n",
            "/content/drive/MyDrive/archive/all-mias/mdb071.pgm\n",
            "/content/drive/MyDrive/archive/all-mias/mdb083.pgm\n",
            "/content/drive/MyDrive/archive/all-mias/mdb092.pgm\n",
            "/content/drive/MyDrive/archive/all-mias/mdb087.pgm\n",
            "/content/drive/MyDrive/archive/all-mias/mdb073.pgm\n",
            "/content/drive/MyDrive/archive/all-mias/mdb081.pgm\n",
            "/content/drive/MyDrive/archive/all-mias/mdb082.pgm\n",
            "/content/drive/MyDrive/archive/all-mias/mdb090.pgm\n",
            "/content/drive/MyDrive/archive/all-mias/mdb074.pgm\n",
            "/content/drive/MyDrive/archive/all-mias/mdb079.pgm\n",
            "/content/drive/MyDrive/archive/all-mias/mdb101.pgm\n",
            "/content/drive/MyDrive/archive/all-mias/mdb102.pgm\n",
            "/content/drive/MyDrive/archive/all-mias/mdb105.pgm\n",
            "/content/drive/MyDrive/archive/all-mias/mdb110.pgm\n",
            "/content/drive/MyDrive/archive/all-mias/mdb113.pgm\n",
            "/content/drive/MyDrive/archive/all-mias/mdb117.pgm\n",
            "/content/drive/MyDrive/archive/all-mias/mdb097.pgm\n",
            "/content/drive/MyDrive/archive/all-mias/mdb108.pgm\n",
            "/content/drive/MyDrive/archive/all-mias/mdb109.pgm\n",
            "/content/drive/MyDrive/archive/all-mias/mdb115.pgm\n",
            "/content/drive/MyDrive/archive/all-mias/mdb099.pgm\n",
            "/content/drive/MyDrive/archive/all-mias/mdb107.pgm\n",
            "/content/drive/MyDrive/archive/all-mias/mdb116.pgm\n",
            "/content/drive/MyDrive/archive/all-mias/mdb094.pgm\n",
            "/content/drive/MyDrive/archive/all-mias/mdb112.pgm\n",
            "/content/drive/MyDrive/archive/all-mias/mdb100.pgm\n",
            "/content/drive/MyDrive/archive/all-mias/mdb098.pgm\n",
            "/content/drive/MyDrive/archive/all-mias/mdb106.pgm\n",
            "/content/drive/MyDrive/archive/all-mias/mdb093.pgm\n",
            "/content/drive/MyDrive/archive/all-mias/mdb104.pgm\n",
            "/content/drive/MyDrive/archive/all-mias/mdb103.pgm\n",
            "/content/drive/MyDrive/archive/all-mias/mdb096.pgm\n",
            "/content/drive/MyDrive/archive/all-mias/mdb095.pgm\n",
            "/content/drive/MyDrive/archive/all-mias/mdb111.pgm\n",
            "/content/drive/MyDrive/archive/all-mias/mdb114.pgm\n",
            "/content/drive/MyDrive/archive/all-mias/mdb129.pgm\n",
            "/content/drive/MyDrive/archive/all-mias/mdb135.pgm\n",
            "/content/drive/MyDrive/archive/all-mias/mdb119.pgm\n",
            "/content/drive/MyDrive/archive/all-mias/mdb133.pgm\n",
            "/content/drive/MyDrive/archive/all-mias/mdb128.pgm\n",
            "/content/drive/MyDrive/archive/all-mias/mdb138.pgm\n",
            "/content/drive/MyDrive/archive/all-mias/mdb136.pgm\n",
            "/content/drive/MyDrive/archive/all-mias/mdb122.pgm\n",
            "/content/drive/MyDrive/archive/all-mias/mdb120.pgm\n",
            "/content/drive/MyDrive/archive/all-mias/mdb127.pgm\n",
            "/content/drive/MyDrive/archive/all-mias/mdb134.pgm\n",
            "/content/drive/MyDrive/archive/all-mias/mdb121.pgm\n",
            "/content/drive/MyDrive/archive/all-mias/mdb125.pgm\n",
            "/content/drive/MyDrive/archive/all-mias/mdb124.pgm\n",
            "/content/drive/MyDrive/archive/all-mias/mdb130.pgm\n",
            "/content/drive/MyDrive/archive/all-mias/mdb118.pgm\n",
            "/content/drive/MyDrive/archive/all-mias/mdb123.pgm\n",
            "/content/drive/MyDrive/archive/all-mias/mdb126.pgm\n",
            "/content/drive/MyDrive/archive/all-mias/mdb132.pgm\n",
            "/content/drive/MyDrive/archive/all-mias/mdb137.pgm\n",
            "/content/drive/MyDrive/archive/all-mias/mdb131.pgm\n",
            "/content/drive/MyDrive/archive/all-mias/mdb156.pgm\n",
            "/content/drive/MyDrive/archive/all-mias/mdb144.pgm\n",
            "/content/drive/MyDrive/archive/all-mias/mdb151.pgm\n",
            "/content/drive/MyDrive/archive/all-mias/mdb148.pgm\n",
            "/content/drive/MyDrive/archive/all-mias/mdb154.pgm\n",
            "/content/drive/MyDrive/archive/all-mias/mdb146.pgm\n",
            "/content/drive/MyDrive/archive/all-mias/mdb150.pgm\n",
            "/content/drive/MyDrive/archive/all-mias/mdb142.pgm\n",
            "/content/drive/MyDrive/archive/all-mias/mdb141.pgm\n",
            "/content/drive/MyDrive/archive/all-mias/mdb145.pgm\n",
            "/content/drive/MyDrive/archive/all-mias/mdb152.pgm\n",
            "/content/drive/MyDrive/archive/all-mias/mdb140.pgm\n",
            "/content/drive/MyDrive/archive/all-mias/mdb147.pgm\n",
            "/content/drive/MyDrive/archive/all-mias/mdb143.pgm\n",
            "/content/drive/MyDrive/archive/all-mias/mdb155.pgm\n",
            "/content/drive/MyDrive/archive/all-mias/mdb139.pgm\n",
            "/content/drive/MyDrive/archive/all-mias/mdb149.pgm\n",
            "/content/drive/MyDrive/archive/all-mias/mdb153.pgm\n",
            "/content/drive/MyDrive/archive/all-mias/mdb165.pgm\n",
            "/content/drive/MyDrive/archive/all-mias/mdb179.pgm\n",
            "/content/drive/MyDrive/archive/all-mias/mdb181.pgm\n",
            "/content/drive/MyDrive/archive/all-mias/mdb158.pgm\n",
            "/content/drive/MyDrive/archive/all-mias/mdb178.pgm\n",
            "/content/drive/MyDrive/archive/all-mias/mdb159.pgm\n",
            "/content/drive/MyDrive/archive/all-mias/mdb166.pgm\n",
            "/content/drive/MyDrive/archive/all-mias/mdb161.pgm\n",
            "/content/drive/MyDrive/archive/all-mias/mdb175.pgm\n",
            "/content/drive/MyDrive/archive/all-mias/mdb169.pgm\n",
            "/content/drive/MyDrive/archive/all-mias/mdb173.pgm\n",
            "/content/drive/MyDrive/archive/all-mias/mdb170.pgm\n",
            "/content/drive/MyDrive/archive/all-mias/mdb157.pgm\n",
            "/content/drive/MyDrive/archive/all-mias/mdb183.pgm\n",
            "/content/drive/MyDrive/archive/all-mias/mdb171.pgm\n",
            "/content/drive/MyDrive/archive/all-mias/mdb172.pgm\n",
            "/content/drive/MyDrive/archive/all-mias/mdb162.pgm\n",
            "/content/drive/MyDrive/archive/all-mias/mdb164.pgm\n",
            "/content/drive/MyDrive/archive/all-mias/mdb176.pgm\n",
            "/content/drive/MyDrive/archive/all-mias/mdb168.pgm\n",
            "/content/drive/MyDrive/archive/all-mias/mdb174.pgm\n",
            "/content/drive/MyDrive/archive/all-mias/mdb163.pgm\n",
            "/content/drive/MyDrive/archive/all-mias/mdb180.pgm\n",
            "/content/drive/MyDrive/archive/all-mias/mdb167.pgm\n",
            "/content/drive/MyDrive/archive/all-mias/mdb160.pgm\n",
            "/content/drive/MyDrive/archive/all-mias/mdb182.pgm\n",
            "/content/drive/MyDrive/archive/all-mias/mdb177.pgm\n",
            "/content/drive/MyDrive/archive/all-mias/mdb195.pgm\n",
            "/content/drive/MyDrive/archive/all-mias/mdb189.pgm\n",
            "/content/drive/MyDrive/archive/all-mias/mdb187.pgm\n",
            "/content/drive/MyDrive/archive/all-mias/mdb204.pgm\n",
            "/content/drive/MyDrive/archive/all-mias/mdb192.pgm\n",
            "/content/drive/MyDrive/archive/all-mias/mdb193.pgm\n",
            "/content/drive/MyDrive/archive/all-mias/mdb190.pgm\n",
            "/content/drive/MyDrive/archive/all-mias/mdb188.pgm\n",
            "/content/drive/MyDrive/archive/all-mias/mdb205.pgm\n",
            "/content/drive/MyDrive/archive/all-mias/mdb186.pgm\n",
            "/content/drive/MyDrive/archive/all-mias/mdb184.pgm\n",
            "/content/drive/MyDrive/archive/all-mias/mdb198.pgm\n",
            "/content/drive/MyDrive/archive/all-mias/mdb202.pgm\n",
            "/content/drive/MyDrive/archive/all-mias/mdb203.pgm\n",
            "/content/drive/MyDrive/archive/all-mias/mdb185.pgm\n",
            "/content/drive/MyDrive/archive/all-mias/mdb191.pgm\n",
            "/content/drive/MyDrive/archive/all-mias/mdb201.pgm\n",
            "/content/drive/MyDrive/archive/all-mias/mdb199.pgm\n",
            "/content/drive/MyDrive/archive/all-mias/mdb200.pgm\n",
            "/content/drive/MyDrive/archive/all-mias/mdb196.pgm\n",
            "/content/drive/MyDrive/archive/all-mias/mdb194.pgm\n",
            "/content/drive/MyDrive/archive/all-mias/mdb206.pgm\n",
            "/content/drive/MyDrive/archive/all-mias/mdb197.pgm\n",
            "/content/drive/MyDrive/archive/all-mias/mdb219.pgm\n",
            "/content/drive/MyDrive/archive/all-mias/mdb225.pgm\n",
            "/content/drive/MyDrive/archive/all-mias/mdb220.pgm\n",
            "/content/drive/MyDrive/archive/all-mias/mdb216.pgm\n",
            "/content/drive/MyDrive/archive/all-mias/mdb229.pgm\n",
            "/content/drive/MyDrive/archive/all-mias/mdb218.pgm\n",
            "/content/drive/MyDrive/archive/all-mias/mdb214.pgm\n",
            "/content/drive/MyDrive/archive/all-mias/mdb230.pgm\n",
            "/content/drive/MyDrive/archive/all-mias/mdb227.pgm\n",
            "/content/drive/MyDrive/archive/all-mias/mdb217.pgm\n",
            "/content/drive/MyDrive/archive/all-mias/mdb221.pgm\n",
            "/content/drive/MyDrive/archive/all-mias/mdb215.pgm\n",
            "/content/drive/MyDrive/archive/all-mias/mdb207.pgm\n",
            "/content/drive/MyDrive/archive/all-mias/mdb212.pgm\n",
            "/content/drive/MyDrive/archive/all-mias/mdb211.pgm\n",
            "/content/drive/MyDrive/archive/all-mias/mdb224.pgm\n",
            "/content/drive/MyDrive/archive/all-mias/mdb208.pgm\n",
            "/content/drive/MyDrive/archive/all-mias/mdb209.pgm\n",
            "/content/drive/MyDrive/archive/all-mias/mdb210.pgm\n",
            "/content/drive/MyDrive/archive/all-mias/mdb213.pgm\n",
            "/content/drive/MyDrive/archive/all-mias/mdb223.pgm\n",
            "/content/drive/MyDrive/archive/all-mias/mdb222.pgm\n",
            "/content/drive/MyDrive/archive/all-mias/mdb226.pgm\n",
            "/content/drive/MyDrive/archive/all-mias/mdb228.pgm\n",
            "/content/drive/MyDrive/archive/all-mias/mdb240.pgm\n",
            "/content/drive/MyDrive/archive/all-mias/mdb246.pgm\n",
            "/content/drive/MyDrive/archive/all-mias/mdb245.pgm\n",
            "/content/drive/MyDrive/archive/all-mias/mdb248.pgm\n",
            "/content/drive/MyDrive/archive/all-mias/mdb234.pgm\n",
            "/content/drive/MyDrive/archive/all-mias/mdb242.pgm\n",
            "/content/drive/MyDrive/archive/all-mias/mdb239.pgm\n",
            "/content/drive/MyDrive/archive/all-mias/mdb244.pgm\n",
            "/content/drive/MyDrive/archive/all-mias/mdb252.pgm\n",
            "/content/drive/MyDrive/archive/all-mias/mdb243.pgm\n",
            "/content/drive/MyDrive/archive/all-mias/mdb250.pgm\n",
            "/content/drive/MyDrive/archive/all-mias/mdb237.pgm\n",
            "/content/drive/MyDrive/archive/all-mias/mdb238.pgm\n",
            "/content/drive/MyDrive/archive/all-mias/mdb235.pgm\n",
            "/content/drive/MyDrive/archive/all-mias/mdb247.pgm\n",
            "/content/drive/MyDrive/archive/all-mias/mdb249.pgm\n",
            "/content/drive/MyDrive/archive/all-mias/mdb232.pgm\n",
            "/content/drive/MyDrive/archive/all-mias/mdb253.pgm\n",
            "/content/drive/MyDrive/archive/all-mias/mdb233.pgm\n",
            "/content/drive/MyDrive/archive/all-mias/mdb241.pgm\n",
            "/content/drive/MyDrive/archive/all-mias/mdb251.pgm\n",
            "/content/drive/MyDrive/archive/all-mias/mdb236.pgm\n",
            "/content/drive/MyDrive/archive/all-mias/mdb231.pgm\n",
            "/content/drive/MyDrive/archive/all-mias/mdb258.pgm\n",
            "/content/drive/MyDrive/archive/all-mias/mdb271.pgm\n",
            "/content/drive/MyDrive/archive/all-mias/mdb274.pgm\n",
            "/content/drive/MyDrive/archive/all-mias/mdb270.pgm\n",
            "/content/drive/MyDrive/archive/all-mias/mdb267.pgm\n",
            "/content/drive/MyDrive/archive/all-mias/mdb260.pgm\n",
            "/content/drive/MyDrive/archive/all-mias/mdb263.pgm\n",
            "/content/drive/MyDrive/archive/all-mias/mdb269.pgm\n",
            "/content/drive/MyDrive/archive/all-mias/mdb259.pgm\n",
            "/content/drive/MyDrive/archive/all-mias/mdb275.pgm\n",
            "/content/drive/MyDrive/archive/all-mias/mdb268.pgm\n",
            "/content/drive/MyDrive/archive/all-mias/mdb264.pgm\n",
            "/content/drive/MyDrive/archive/all-mias/mdb272.pgm\n",
            "/content/drive/MyDrive/archive/all-mias/mdb273.pgm\n",
            "/content/drive/MyDrive/archive/all-mias/mdb265.pgm\n",
            "/content/drive/MyDrive/archive/all-mias/mdb261.pgm\n",
            "/content/drive/MyDrive/archive/all-mias/mdb262.pgm\n",
            "/content/drive/MyDrive/archive/all-mias/mdb256.pgm\n",
            "/content/drive/MyDrive/archive/all-mias/mdb254.pgm\n",
            "/content/drive/MyDrive/archive/all-mias/mdb266.pgm\n",
            "/content/drive/MyDrive/archive/all-mias/mdb255.pgm\n",
            "/content/drive/MyDrive/archive/all-mias/mdb257.pgm\n",
            "/content/drive/MyDrive/archive/all-mias/mdb284.pgm\n",
            "/content/drive/MyDrive/archive/all-mias/mdb298.pgm\n",
            "/content/drive/MyDrive/archive/all-mias/mdb283.pgm\n",
            "/content/drive/MyDrive/archive/all-mias/mdb285.pgm\n",
            "/content/drive/MyDrive/archive/all-mias/mdb299.pgm\n",
            "/content/drive/MyDrive/archive/all-mias/mdb296.pgm\n",
            "/content/drive/MyDrive/archive/all-mias/mdb289.pgm\n",
            "/content/drive/MyDrive/archive/all-mias/mdb286.pgm\n",
            "/content/drive/MyDrive/archive/all-mias/mdb280.pgm\n",
            "/content/drive/MyDrive/archive/all-mias/mdb293.pgm\n",
            "/content/drive/MyDrive/archive/all-mias/mdb282.pgm\n",
            "/content/drive/MyDrive/archive/all-mias/mdb290.pgm\n",
            "/content/drive/MyDrive/archive/all-mias/mdb277.pgm\n",
            "/content/drive/MyDrive/archive/all-mias/mdb292.pgm\n",
            "/content/drive/MyDrive/archive/all-mias/mdb294.pgm\n",
            "/content/drive/MyDrive/archive/all-mias/mdb288.pgm\n",
            "/content/drive/MyDrive/archive/all-mias/mdb278.pgm\n",
            "/content/drive/MyDrive/archive/all-mias/mdb297.pgm\n",
            "/content/drive/MyDrive/archive/all-mias/mdb276.pgm\n",
            "/content/drive/MyDrive/archive/all-mias/mdb279.pgm\n",
            "/content/drive/MyDrive/archive/all-mias/mdb287.pgm\n",
            "/content/drive/MyDrive/archive/all-mias/mdb281.pgm\n",
            "/content/drive/MyDrive/archive/all-mias/mdb295.pgm\n",
            "/content/drive/MyDrive/archive/all-mias/mdb291.pgm\n",
            "/content/drive/MyDrive/archive/all-mias/mdb314.pgm\n",
            "/content/drive/MyDrive/archive/all-mias/mdb310.pgm\n",
            "/content/drive/MyDrive/archive/all-mias/mdb301.pgm\n",
            "/content/drive/MyDrive/archive/all-mias/mdb302.pgm\n",
            "/content/drive/MyDrive/archive/all-mias/mdb315.pgm\n",
            "/content/drive/MyDrive/archive/all-mias/mdb313.pgm\n",
            "/content/drive/MyDrive/archive/all-mias/mdb317.pgm\n",
            "/content/drive/MyDrive/archive/all-mias/mdb300.pgm\n",
            "/content/drive/MyDrive/archive/all-mias/mdb307.pgm\n",
            "/content/drive/MyDrive/archive/all-mias/mdb319.pgm\n",
            "/content/drive/MyDrive/archive/all-mias/mdb318.pgm\n",
            "/content/drive/MyDrive/archive/all-mias/mdb303.pgm\n",
            "/content/drive/MyDrive/archive/all-mias/mdb304.pgm\n",
            "/content/drive/MyDrive/archive/all-mias/mdb312.pgm\n",
            "/content/drive/MyDrive/archive/all-mias/mdb311.pgm\n",
            "/content/drive/MyDrive/archive/all-mias/mdb316.pgm\n",
            "/content/drive/MyDrive/archive/all-mias/mdb322.pgm\n",
            "/content/drive/MyDrive/archive/all-mias/mdb320.pgm\n",
            "/content/drive/MyDrive/archive/all-mias/mdb309.pgm\n",
            "/content/drive/MyDrive/archive/all-mias/mdb308.pgm\n",
            "/content/drive/MyDrive/archive/all-mias/mdb321.pgm\n",
            "/content/drive/MyDrive/archive/all-mias/mdb305.pgm\n",
            "/content/drive/MyDrive/archive/all-mias/mdb306.pgm\n",
            "/content/drive/MyDrive/archive/all-mias/ROIimage.pgm\n"
          ]
        }
      ],
      "source": [
        "import numpy as np\n",
        "import pandas as pd\n",
        "\n",
        "import os\n",
        "for dirname, _, filenames in os.walk('/content/drive/MyDrive/archive'):\n",
        "    for filename in filenames:\n",
        "        print(os.path.join(dirname, filename))\n"
      ]
    },
    {
      "cell_type": "markdown",
      "id": "568d45e3",
      "metadata": {
        "_cell_guid": "0937c9cd-a65f-4d23-bea5-f3da60b7ce23",
        "_uuid": "d9ea37bd-641b-4ff8-b164-7a8d6110d27f",
        "papermill": {
          "duration": 0.036255,
          "end_time": "2022-02-10T13:00:20.404158",
          "exception": false,
          "start_time": "2022-02-10T13:00:20.367903",
          "status": "completed"
        },
        "tags": [],
        "id": "568d45e3"
      },
      "source": [
        "**Importing all the necessary packages.**"
      ]
    },
    {
      "cell_type": "code",
      "execution_count": 3,
      "id": "d076dadb",
      "metadata": {
        "_cell_guid": "959dafac-024a-4d14-aed5-3970e6ebb5a4",
        "_uuid": "6c9f8c9d-bf86-4c5f-8fc6-51a875a8ec79",
        "execution": {
          "iopub.execute_input": "2022-02-10T13:00:20.483927Z",
          "iopub.status.busy": "2022-02-10T13:00:20.483210Z",
          "iopub.status.idle": "2022-02-10T13:00:25.363551Z",
          "shell.execute_reply": "2022-02-10T13:00:25.362583Z",
          "shell.execute_reply.started": "2021-11-20T15:21:13.149296Z"
        },
        "jupyter": {
          "outputs_hidden": false
        },
        "papermill": {
          "duration": 4.92195,
          "end_time": "2022-02-10T13:00:25.363702",
          "exception": false,
          "start_time": "2022-02-10T13:00:20.441752",
          "status": "completed"
        },
        "tags": [],
        "id": "d076dadb"
      },
      "outputs": [],
      "source": [
        "import tensorflow as tf\n",
        "import numpy as np\n",
        "import pandas as pd\n",
        "import matplotlib.pyplot as plt\n",
        "import os\n",
        "from IPython.display import clear_output\n",
        "from tqdm.notebook import tqdm\n",
        "import cv2\n",
        "from sklearn.model_selection import train_test_split\n",
        "import random"
      ]
    },
    {
      "cell_type": "code",
      "execution_count": 4,
      "id": "7db1a266",
      "metadata": {
        "_cell_guid": "1299e4a8-f562-4a4d-97c4-16ca1a5cd563",
        "_uuid": "799062df-8f53-49f4-8635-99944d14d865",
        "execution": {
          "iopub.execute_input": "2022-02-10T13:00:25.443269Z",
          "iopub.status.busy": "2022-02-10T13:00:25.441706Z",
          "iopub.status.idle": "2022-02-10T13:00:25.443868Z",
          "shell.execute_reply": "2022-02-10T13:00:25.444277Z",
          "shell.execute_reply.started": "2021-11-20T15:21:18.618946Z"
        },
        "jupyter": {
          "outputs_hidden": false
        },
        "papermill": {
          "duration": 0.043171,
          "end_time": "2022-02-10T13:00:25.444413",
          "exception": false,
          "start_time": "2022-02-10T13:00:25.401242",
          "status": "completed"
        },
        "tags": [],
        "id": "7db1a266"
      },
      "outputs": [],
      "source": [
        "imgs_path = '/content/drive/MyDrive/archive/all-mias/' #assigning the image path value to imgs_path"
      ]
    },
    {
      "cell_type": "markdown",
      "id": "c31b9237",
      "metadata": {
        "_cell_guid": "ebb9887f-899d-4eb2-a348-29484dc541a5",
        "_uuid": "fe525dda-3df6-4429-b0c1-54482a4c750f",
        "papermill": {
          "duration": 0.038234,
          "end_time": "2022-02-10T13:00:25.518856",
          "exception": false,
          "start_time": "2022-02-10T13:00:25.480622",
          "status": "completed"
        },
        "tags": [],
        "id": "c31b9237"
      },
      "source": [
        "**Reading the dataframe**"
      ]
    },
    {
      "cell_type": "code",
      "execution_count": 5,
      "id": "4ed7b4f7",
      "metadata": {
        "_cell_guid": "9312c349-fca4-4c20-b145-19d440c21731",
        "_uuid": "e54f748d-5dcf-4230-8466-801ec2281469",
        "execution": {
          "iopub.execute_input": "2022-02-10T13:00:25.650268Z",
          "iopub.status.busy": "2022-02-10T13:00:25.649686Z",
          "iopub.status.idle": "2022-02-10T13:00:25.670624Z",
          "shell.execute_reply": "2022-02-10T13:00:25.670150Z",
          "shell.execute_reply.started": "2021-11-20T15:21:18.631817Z"
        },
        "jupyter": {
          "outputs_hidden": false
        },
        "papermill": {
          "duration": 0.113513,
          "end_time": "2022-02-10T13:00:25.670755",
          "exception": false,
          "start_time": "2022-02-10T13:00:25.557242",
          "status": "completed"
        },
        "tags": [],
        "id": "4ed7b4f7"
      },
      "outputs": [],
      "source": [
        "info=pd.read_csv(\"/content/drive/MyDrive/archive/Info.txt\",sep=\" \")\n",
        "info=info.drop('Unnamed: 7',axis=1)"
      ]
    },
    {
      "cell_type": "code",
      "execution_count": 6,
      "id": "96b25303",
      "metadata": {
        "_cell_guid": "2a21ba40-e0db-46fa-920a-e29a904fcfed",
        "_uuid": "3dd44872-800a-4758-a6f5-846f7b24fdaf",
        "execution": {
          "iopub.execute_input": "2022-02-10T13:00:25.751290Z",
          "iopub.status.busy": "2022-02-10T13:00:25.750466Z",
          "iopub.status.idle": "2022-02-10T13:00:25.767635Z",
          "shell.execute_reply": "2022-02-10T13:00:25.767189Z",
          "shell.execute_reply.started": "2021-11-20T15:21:18.665785Z"
        },
        "jupyter": {
          "outputs_hidden": false
        },
        "papermill": {
          "duration": 0.059985,
          "end_time": "2022-02-10T13:00:25.767758",
          "exception": false,
          "start_time": "2022-02-10T13:00:25.707773",
          "status": "completed"
        },
        "tags": [],
        "colab": {
          "base_uri": "https://localhost:8080/",
          "height": 424
        },
        "id": "96b25303",
        "outputId": "55a9d2b9-13b6-4b24-8d64-eb7d627ed94a"
      },
      "outputs": [
        {
          "output_type": "execute_result",
          "data": {
            "text/plain": [
              "     REFNUM BG CLASS SEVERITY      X      Y  RADIUS\n",
              "0    mdb001  G  CIRC        B  535.0  425.0   197.0\n",
              "1    mdb002  G  CIRC        B  522.0  280.0    69.0\n",
              "2    mdb003  D  NORM      NaN    NaN    NaN     NaN\n",
              "3    mdb004  D  NORM      NaN    NaN    NaN     NaN\n",
              "4    mdb005  F  CIRC        B  477.0  133.0    30.0\n",
              "..      ... ..   ...      ...    ...    ...     ...\n",
              "325  mdb318  D  NORM      NaN    NaN    NaN     NaN\n",
              "326  mdb319  D  NORM      NaN    NaN    NaN     NaN\n",
              "327  mdb320  D  NORM      NaN    NaN    NaN     NaN\n",
              "328  mdb321  D  NORM      NaN    NaN    NaN     NaN\n",
              "329  mdb322  D  NORM      NaN    NaN    NaN     NaN\n",
              "\n",
              "[330 rows x 7 columns]"
            ],
            "text/html": [
              "\n",
              "\n",
              "  <div id=\"df-1d06c30e-1f8b-4ba7-8ed2-090953056cbd\">\n",
              "    <div class=\"colab-df-container\">\n",
              "      <div>\n",
              "<style scoped>\n",
              "    .dataframe tbody tr th:only-of-type {\n",
              "        vertical-align: middle;\n",
              "    }\n",
              "\n",
              "    .dataframe tbody tr th {\n",
              "        vertical-align: top;\n",
              "    }\n",
              "\n",
              "    .dataframe thead th {\n",
              "        text-align: right;\n",
              "    }\n",
              "</style>\n",
              "<table border=\"1\" class=\"dataframe\">\n",
              "  <thead>\n",
              "    <tr style=\"text-align: right;\">\n",
              "      <th></th>\n",
              "      <th>REFNUM</th>\n",
              "      <th>BG</th>\n",
              "      <th>CLASS</th>\n",
              "      <th>SEVERITY</th>\n",
              "      <th>X</th>\n",
              "      <th>Y</th>\n",
              "      <th>RADIUS</th>\n",
              "    </tr>\n",
              "  </thead>\n",
              "  <tbody>\n",
              "    <tr>\n",
              "      <th>0</th>\n",
              "      <td>mdb001</td>\n",
              "      <td>G</td>\n",
              "      <td>CIRC</td>\n",
              "      <td>B</td>\n",
              "      <td>535.0</td>\n",
              "      <td>425.0</td>\n",
              "      <td>197.0</td>\n",
              "    </tr>\n",
              "    <tr>\n",
              "      <th>1</th>\n",
              "      <td>mdb002</td>\n",
              "      <td>G</td>\n",
              "      <td>CIRC</td>\n",
              "      <td>B</td>\n",
              "      <td>522.0</td>\n",
              "      <td>280.0</td>\n",
              "      <td>69.0</td>\n",
              "    </tr>\n",
              "    <tr>\n",
              "      <th>2</th>\n",
              "      <td>mdb003</td>\n",
              "      <td>D</td>\n",
              "      <td>NORM</td>\n",
              "      <td>NaN</td>\n",
              "      <td>NaN</td>\n",
              "      <td>NaN</td>\n",
              "      <td>NaN</td>\n",
              "    </tr>\n",
              "    <tr>\n",
              "      <th>3</th>\n",
              "      <td>mdb004</td>\n",
              "      <td>D</td>\n",
              "      <td>NORM</td>\n",
              "      <td>NaN</td>\n",
              "      <td>NaN</td>\n",
              "      <td>NaN</td>\n",
              "      <td>NaN</td>\n",
              "    </tr>\n",
              "    <tr>\n",
              "      <th>4</th>\n",
              "      <td>mdb005</td>\n",
              "      <td>F</td>\n",
              "      <td>CIRC</td>\n",
              "      <td>B</td>\n",
              "      <td>477.0</td>\n",
              "      <td>133.0</td>\n",
              "      <td>30.0</td>\n",
              "    </tr>\n",
              "    <tr>\n",
              "      <th>...</th>\n",
              "      <td>...</td>\n",
              "      <td>...</td>\n",
              "      <td>...</td>\n",
              "      <td>...</td>\n",
              "      <td>...</td>\n",
              "      <td>...</td>\n",
              "      <td>...</td>\n",
              "    </tr>\n",
              "    <tr>\n",
              "      <th>325</th>\n",
              "      <td>mdb318</td>\n",
              "      <td>D</td>\n",
              "      <td>NORM</td>\n",
              "      <td>NaN</td>\n",
              "      <td>NaN</td>\n",
              "      <td>NaN</td>\n",
              "      <td>NaN</td>\n",
              "    </tr>\n",
              "    <tr>\n",
              "      <th>326</th>\n",
              "      <td>mdb319</td>\n",
              "      <td>D</td>\n",
              "      <td>NORM</td>\n",
              "      <td>NaN</td>\n",
              "      <td>NaN</td>\n",
              "      <td>NaN</td>\n",
              "      <td>NaN</td>\n",
              "    </tr>\n",
              "    <tr>\n",
              "      <th>327</th>\n",
              "      <td>mdb320</td>\n",
              "      <td>D</td>\n",
              "      <td>NORM</td>\n",
              "      <td>NaN</td>\n",
              "      <td>NaN</td>\n",
              "      <td>NaN</td>\n",
              "      <td>NaN</td>\n",
              "    </tr>\n",
              "    <tr>\n",
              "      <th>328</th>\n",
              "      <td>mdb321</td>\n",
              "      <td>D</td>\n",
              "      <td>NORM</td>\n",
              "      <td>NaN</td>\n",
              "      <td>NaN</td>\n",
              "      <td>NaN</td>\n",
              "      <td>NaN</td>\n",
              "    </tr>\n",
              "    <tr>\n",
              "      <th>329</th>\n",
              "      <td>mdb322</td>\n",
              "      <td>D</td>\n",
              "      <td>NORM</td>\n",
              "      <td>NaN</td>\n",
              "      <td>NaN</td>\n",
              "      <td>NaN</td>\n",
              "      <td>NaN</td>\n",
              "    </tr>\n",
              "  </tbody>\n",
              "</table>\n",
              "<p>330 rows × 7 columns</p>\n",
              "</div>\n",
              "      <button class=\"colab-df-convert\" onclick=\"convertToInteractive('df-1d06c30e-1f8b-4ba7-8ed2-090953056cbd')\"\n",
              "              title=\"Convert this dataframe to an interactive table.\"\n",
              "              style=\"display:none;\">\n",
              "\n",
              "  <svg xmlns=\"http://www.w3.org/2000/svg\" height=\"24px\"viewBox=\"0 0 24 24\"\n",
              "       width=\"24px\">\n",
              "    <path d=\"M0 0h24v24H0V0z\" fill=\"none\"/>\n",
              "    <path d=\"M18.56 5.44l.94 2.06.94-2.06 2.06-.94-2.06-.94-.94-2.06-.94 2.06-2.06.94zm-11 1L8.5 8.5l.94-2.06 2.06-.94-2.06-.94L8.5 2.5l-.94 2.06-2.06.94zm10 10l.94 2.06.94-2.06 2.06-.94-2.06-.94-.94-2.06-.94 2.06-2.06.94z\"/><path d=\"M17.41 7.96l-1.37-1.37c-.4-.4-.92-.59-1.43-.59-.52 0-1.04.2-1.43.59L10.3 9.45l-7.72 7.72c-.78.78-.78 2.05 0 2.83L4 21.41c.39.39.9.59 1.41.59.51 0 1.02-.2 1.41-.59l7.78-7.78 2.81-2.81c.8-.78.8-2.07 0-2.86zM5.41 20L4 18.59l7.72-7.72 1.47 1.35L5.41 20z\"/>\n",
              "  </svg>\n",
              "      </button>\n",
              "\n",
              "\n",
              "\n",
              "    <div id=\"df-2eba786f-9900-468e-be0a-b28a84b7e937\">\n",
              "      <button class=\"colab-df-quickchart\" onclick=\"quickchart('df-2eba786f-9900-468e-be0a-b28a84b7e937')\"\n",
              "              title=\"Suggest charts.\"\n",
              "              style=\"display:none;\">\n",
              "\n",
              "<svg xmlns=\"http://www.w3.org/2000/svg\" height=\"24px\"viewBox=\"0 0 24 24\"\n",
              "     width=\"24px\">\n",
              "    <g>\n",
              "        <path d=\"M19 3H5c-1.1 0-2 .9-2 2v14c0 1.1.9 2 2 2h14c1.1 0 2-.9 2-2V5c0-1.1-.9-2-2-2zM9 17H7v-7h2v7zm4 0h-2V7h2v10zm4 0h-2v-4h2v4z\"/>\n",
              "    </g>\n",
              "</svg>\n",
              "      </button>\n",
              "    </div>\n",
              "\n",
              "<style>\n",
              "  .colab-df-quickchart {\n",
              "    background-color: #E8F0FE;\n",
              "    border: none;\n",
              "    border-radius: 50%;\n",
              "    cursor: pointer;\n",
              "    display: none;\n",
              "    fill: #1967D2;\n",
              "    height: 32px;\n",
              "    padding: 0 0 0 0;\n",
              "    width: 32px;\n",
              "  }\n",
              "\n",
              "  .colab-df-quickchart:hover {\n",
              "    background-color: #E2EBFA;\n",
              "    box-shadow: 0px 1px 2px rgba(60, 64, 67, 0.3), 0px 1px 3px 1px rgba(60, 64, 67, 0.15);\n",
              "    fill: #174EA6;\n",
              "  }\n",
              "\n",
              "  [theme=dark] .colab-df-quickchart {\n",
              "    background-color: #3B4455;\n",
              "    fill: #D2E3FC;\n",
              "  }\n",
              "\n",
              "  [theme=dark] .colab-df-quickchart:hover {\n",
              "    background-color: #434B5C;\n",
              "    box-shadow: 0px 1px 3px 1px rgba(0, 0, 0, 0.15);\n",
              "    filter: drop-shadow(0px 1px 2px rgba(0, 0, 0, 0.3));\n",
              "    fill: #FFFFFF;\n",
              "  }\n",
              "</style>\n",
              "\n",
              "    <script>\n",
              "      async function quickchart(key) {\n",
              "        const containerElement = document.querySelector('#' + key);\n",
              "        const charts = await google.colab.kernel.invokeFunction(\n",
              "            'suggestCharts', [key], {});\n",
              "      }\n",
              "    </script>\n",
              "\n",
              "      <script>\n",
              "\n",
              "function displayQuickchartButton(domScope) {\n",
              "  let quickchartButtonEl =\n",
              "    domScope.querySelector('#df-2eba786f-9900-468e-be0a-b28a84b7e937 button.colab-df-quickchart');\n",
              "  quickchartButtonEl.style.display =\n",
              "    google.colab.kernel.accessAllowed ? 'block' : 'none';\n",
              "}\n",
              "\n",
              "        displayQuickchartButton(document);\n",
              "      </script>\n",
              "      <style>\n",
              "    .colab-df-container {\n",
              "      display:flex;\n",
              "      flex-wrap:wrap;\n",
              "      gap: 12px;\n",
              "    }\n",
              "\n",
              "    .colab-df-convert {\n",
              "      background-color: #E8F0FE;\n",
              "      border: none;\n",
              "      border-radius: 50%;\n",
              "      cursor: pointer;\n",
              "      display: none;\n",
              "      fill: #1967D2;\n",
              "      height: 32px;\n",
              "      padding: 0 0 0 0;\n",
              "      width: 32px;\n",
              "    }\n",
              "\n",
              "    .colab-df-convert:hover {\n",
              "      background-color: #E2EBFA;\n",
              "      box-shadow: 0px 1px 2px rgba(60, 64, 67, 0.3), 0px 1px 3px 1px rgba(60, 64, 67, 0.15);\n",
              "      fill: #174EA6;\n",
              "    }\n",
              "\n",
              "    [theme=dark] .colab-df-convert {\n",
              "      background-color: #3B4455;\n",
              "      fill: #D2E3FC;\n",
              "    }\n",
              "\n",
              "    [theme=dark] .colab-df-convert:hover {\n",
              "      background-color: #434B5C;\n",
              "      box-shadow: 0px 1px 3px 1px rgba(0, 0, 0, 0.15);\n",
              "      filter: drop-shadow(0px 1px 2px rgba(0, 0, 0, 0.3));\n",
              "      fill: #FFFFFF;\n",
              "    }\n",
              "  </style>\n",
              "\n",
              "      <script>\n",
              "        const buttonEl =\n",
              "          document.querySelector('#df-1d06c30e-1f8b-4ba7-8ed2-090953056cbd button.colab-df-convert');\n",
              "        buttonEl.style.display =\n",
              "          google.colab.kernel.accessAllowed ? 'block' : 'none';\n",
              "\n",
              "        async function convertToInteractive(key) {\n",
              "          const element = document.querySelector('#df-1d06c30e-1f8b-4ba7-8ed2-090953056cbd');\n",
              "          const dataTable =\n",
              "            await google.colab.kernel.invokeFunction('convertToInteractive',\n",
              "                                                     [key], {});\n",
              "          if (!dataTable) return;\n",
              "\n",
              "          const docLinkHtml = 'Like what you see? Visit the ' +\n",
              "            '<a target=\"_blank\" href=https://colab.research.google.com/notebooks/data_table.ipynb>data table notebook</a>'\n",
              "            + ' to learn more about interactive tables.';\n",
              "          element.innerHTML = '';\n",
              "          dataTable['output_type'] = 'display_data';\n",
              "          await google.colab.output.renderOutput(dataTable, element);\n",
              "          const docLink = document.createElement('div');\n",
              "          docLink.innerHTML = docLinkHtml;\n",
              "          element.appendChild(docLink);\n",
              "        }\n",
              "      </script>\n",
              "    </div>\n",
              "  </div>\n"
            ]
          },
          "metadata": {},
          "execution_count": 6
        }
      ],
      "source": [
        "info"
      ]
    },
    {
      "cell_type": "code",
      "execution_count": 7,
      "id": "04a94d79",
      "metadata": {
        "_cell_guid": "162bd50e-90bd-4ad7-9a10-e37b2d8400fd",
        "_uuid": "fddbb5c5-65f2-43cc-aa2b-5d754ec971c0",
        "execution": {
          "iopub.execute_input": "2022-02-10T13:00:25.853537Z",
          "iopub.status.busy": "2022-02-10T13:00:25.852689Z",
          "iopub.status.idle": "2022-02-10T13:00:25.854965Z",
          "shell.execute_reply": "2022-02-10T13:00:25.854544Z",
          "shell.execute_reply.started": "2021-11-20T15:21:18.697632Z"
        },
        "jupyter": {
          "outputs_hidden": false
        },
        "papermill": {
          "duration": 0.049868,
          "end_time": "2022-02-10T13:00:25.855084",
          "exception": false,
          "start_time": "2022-02-10T13:00:25.805216",
          "status": "completed"
        },
        "tags": [],
        "id": "04a94d79"
      },
      "outputs": [],
      "source": [
        "ids = {}\n",
        "for i in range(len(info)):\n",
        "    ids[i] = info.REFNUM[i]"
      ]
    },
    {
      "cell_type": "code",
      "execution_count": 8,
      "id": "623a7e08",
      "metadata": {
        "_cell_guid": "c0cdca0f-201d-47d9-af5f-371e5f5a3e7d",
        "_uuid": "712e4f64-f576-4dc9-804f-94775f118d90",
        "execution": {
          "iopub.execute_input": "2022-02-10T13:00:25.939650Z",
          "iopub.status.busy": "2022-02-10T13:00:25.932587Z",
          "iopub.status.idle": "2022-02-10T13:00:25.942772Z",
          "shell.execute_reply": "2022-02-10T13:00:25.943540Z",
          "shell.execute_reply.started": "2021-11-20T15:21:18.716078Z"
        },
        "jupyter": {
          "outputs_hidden": false
        },
        "papermill": {
          "duration": 0.050991,
          "end_time": "2022-02-10T13:00:25.943727",
          "exception": false,
          "start_time": "2022-02-10T13:00:25.892736",
          "status": "completed"
        },
        "tags": [],
        "colab": {
          "base_uri": "https://localhost:8080/"
        },
        "id": "623a7e08",
        "outputId": "6d3c12af-0744-47a2-f9e4-fe34404516a8"
      },
      "outputs": [
        {
          "output_type": "stream",
          "name": "stdout",
          "text": [
            "Total Images: 330\n",
            "Normales: 207\n",
            "No normales: 123\n"
          ]
        }
      ],
      "source": [
        "# Turning our outputs Normal-Abnormal to 0-1\n",
        "label = []\n",
        "for i in range(len(info)):\n",
        "    if info.CLASS[i] != 'NORM':\n",
        "        label.append(1)\n",
        "    else:\n",
        "        label.append(0)\n",
        "label = np.array(label)\n",
        "print(f\"Total Images: {len(label)}\\nNormales: {len(label)-np.sum(label)}\\n abnormales: {np.sum(label)}\")"
      ]
    },
    {
      "cell_type": "code",
      "execution_count": 9,
      "id": "df1f5982",
      "metadata": {
        "_cell_guid": "dab2472c-ff75-40dc-b94c-151b9387edaa",
        "_uuid": "76e67cd2-8207-49fd-9a19-be62738fc0ce",
        "execution": {
          "iopub.execute_input": "2022-02-10T13:00:26.030193Z",
          "iopub.status.busy": "2022-02-10T13:00:26.029286Z",
          "iopub.status.idle": "2022-02-10T13:00:26.032241Z",
          "shell.execute_reply": "2022-02-10T13:00:26.032665Z",
          "shell.execute_reply.started": "2021-11-20T15:21:18.7347Z"
        },
        "jupyter": {
          "outputs_hidden": false
        },
        "papermill": {
          "duration": 0.05055,
          "end_time": "2022-02-10T13:00:26.032815",
          "exception": false,
          "start_time": "2022-02-10T13:00:25.982265",
          "status": "completed"
        },
        "tags": [],
        "id": "df1f5982"
      },
      "outputs": [],
      "source": [
        "# define the every images filepaths in to list\n",
        "img_name = []\n",
        "\n",
        "for i in range(len(label)):\n",
        "        img_name.append(imgs_path + info.REFNUM[i]+ '.pgm')"
      ]
    },
    {
      "cell_type": "code",
      "execution_count": 10,
      "id": "07597d5c",
      "metadata": {
        "_cell_guid": "4fc0a62e-e63f-42c8-9fbf-bfa9621854b7",
        "_uuid": "46b8c5c1-da6a-4fba-a31f-494b4c332ab0",
        "execution": {
          "iopub.execute_input": "2022-02-10T13:00:26.114838Z",
          "iopub.status.busy": "2022-02-10T13:00:26.113951Z",
          "iopub.status.idle": "2022-02-10T13:00:26.115805Z",
          "shell.execute_reply": "2022-02-10T13:00:26.116247Z",
          "shell.execute_reply.started": "2021-11-20T15:21:18.75225Z"
        },
        "jupyter": {
          "outputs_hidden": false
        },
        "papermill": {
          "duration": 0.045752,
          "end_time": "2022-02-10T13:00:26.116382",
          "exception": false,
          "start_time": "2022-02-10T13:00:26.070630",
          "status": "completed"
        },
        "tags": [],
        "id": "07597d5c"
      },
      "outputs": [],
      "source": [
        "count = 0\n",
        "remove = True\n",
        "temp_label = []\n",
        "temp_img_name = []\n",
        "\n",
        "for i, lbl in enumerate(label.tolist()):\n",
        "    if lbl == 0 and remove == True:\n",
        "        count = count + 1\n",
        "        if count >= 84:\n",
        "            remove = False\n",
        "    else:\n",
        "        temp_label.append(lbl)\n",
        "        temp_img_name.append(img_name[i])\n",
        "label = np.array(temp_label)\n",
        "img_name = temp_img_name"
      ]
    },
    {
      "cell_type": "code",
      "execution_count": 11,
      "id": "be6d0174",
      "metadata": {
        "_cell_guid": "58f5ac70-d8e1-4602-847c-d81d89e1110d",
        "_uuid": "693475a1-965f-4b46-8218-c89aabf82da2",
        "execution": {
          "iopub.execute_input": "2022-02-10T13:00:26.197649Z",
          "iopub.status.busy": "2022-02-10T13:00:26.196867Z",
          "iopub.status.idle": "2022-02-10T13:00:26.199688Z",
          "shell.execute_reply": "2022-02-10T13:00:26.200110Z",
          "shell.execute_reply.started": "2021-11-20T15:21:18.76475Z"
        },
        "jupyter": {
          "outputs_hidden": false
        },
        "papermill": {
          "duration": 0.045919,
          "end_time": "2022-02-10T13:00:26.200247",
          "exception": false,
          "start_time": "2022-02-10T13:00:26.154328",
          "status": "completed"
        },
        "tags": [],
        "colab": {
          "base_uri": "https://localhost:8080/"
        },
        "id": "be6d0174",
        "outputId": "33076a3a-5de5-46bf-878a-739dd0b0976d"
      },
      "outputs": [
        {
          "output_type": "execute_result",
          "data": {
            "text/plain": [
              "(246,)"
            ]
          },
          "metadata": {},
          "execution_count": 11
        }
      ],
      "source": [
        "img_name = np.array(img_name)\n",
        "img_name.shape"
      ]
    },
    {
      "cell_type": "code",
      "execution_count": 12,
      "id": "87a825de",
      "metadata": {
        "_cell_guid": "3c84c171-7ff1-4c71-a551-1dc4ee6b95e7",
        "_uuid": "a7c853c7-bab0-4ae9-9943-def7a03a693a",
        "execution": {
          "iopub.execute_input": "2022-02-10T13:00:26.281694Z",
          "iopub.status.busy": "2022-02-10T13:00:26.281000Z",
          "iopub.status.idle": "2022-02-10T13:00:26.285201Z",
          "shell.execute_reply": "2022-02-10T13:00:26.286562Z",
          "shell.execute_reply.started": "2021-11-20T15:21:18.783916Z"
        },
        "jupyter": {
          "outputs_hidden": false
        },
        "papermill": {
          "duration": 0.049238,
          "end_time": "2022-02-10T13:00:26.286935",
          "exception": false,
          "start_time": "2022-02-10T13:00:26.237697",
          "status": "completed"
        },
        "tags": [],
        "colab": {
          "base_uri": "https://localhost:8080/"
        },
        "id": "87a825de",
        "outputId": "9a85135d-e7b9-4a49-9cea-e4de102d14e3"
      },
      "outputs": [
        {
          "output_type": "stream",
          "name": "stdout",
          "text": [
            "['/content/drive/MyDrive/archive/all-mias/mdb001.pgm'\n",
            " '/content/drive/MyDrive/archive/all-mias/mdb002.pgm'\n",
            " '/content/drive/MyDrive/archive/all-mias/mdb005.pgm'\n",
            " '/content/drive/MyDrive/archive/all-mias/mdb005.pgm'\n",
            " '/content/drive/MyDrive/archive/all-mias/mdb010.pgm'\n",
            " '/content/drive/MyDrive/archive/all-mias/mdb012.pgm'\n",
            " '/content/drive/MyDrive/archive/all-mias/mdb013.pgm'\n",
            " '/content/drive/MyDrive/archive/all-mias/mdb015.pgm'\n",
            " '/content/drive/MyDrive/archive/all-mias/mdb017.pgm'\n",
            " '/content/drive/MyDrive/archive/all-mias/mdb019.pgm'\n",
            " '/content/drive/MyDrive/archive/all-mias/mdb021.pgm'\n",
            " '/content/drive/MyDrive/archive/all-mias/mdb023.pgm'\n",
            " '/content/drive/MyDrive/archive/all-mias/mdb025.pgm'\n",
            " '/content/drive/MyDrive/archive/all-mias/mdb028.pgm'\n",
            " '/content/drive/MyDrive/archive/all-mias/mdb030.pgm'\n",
            " '/content/drive/MyDrive/archive/all-mias/mdb032.pgm'\n",
            " '/content/drive/MyDrive/archive/all-mias/mdb058.pgm'\n",
            " '/content/drive/MyDrive/archive/all-mias/mdb059.pgm'\n",
            " '/content/drive/MyDrive/archive/all-mias/mdb063.pgm'\n",
            " '/content/drive/MyDrive/archive/all-mias/mdb069.pgm'\n",
            " '/content/drive/MyDrive/archive/all-mias/mdb072.pgm'\n",
            " '/content/drive/MyDrive/archive/all-mias/mdb075.pgm'\n",
            " '/content/drive/MyDrive/archive/all-mias/mdb080.pgm'\n",
            " '/content/drive/MyDrive/archive/all-mias/mdb081.pgm'\n",
            " '/content/drive/MyDrive/archive/all-mias/mdb083.pgm'\n",
            " '/content/drive/MyDrive/archive/all-mias/mdb090.pgm'\n",
            " '/content/drive/MyDrive/archive/all-mias/mdb091.pgm'\n",
            " '/content/drive/MyDrive/archive/all-mias/mdb092.pgm'\n",
            " '/content/drive/MyDrive/archive/all-mias/mdb095.pgm'\n",
            " '/content/drive/MyDrive/archive/all-mias/mdb097.pgm'\n",
            " '/content/drive/MyDrive/archive/all-mias/mdb099.pgm'\n",
            " '/content/drive/MyDrive/archive/all-mias/mdb102.pgm'\n",
            " '/content/drive/MyDrive/archive/all-mias/mdb104.pgm'\n",
            " '/content/drive/MyDrive/archive/all-mias/mdb105.pgm'\n",
            " '/content/drive/MyDrive/archive/all-mias/mdb107.pgm'\n",
            " '/content/drive/MyDrive/archive/all-mias/mdb110.pgm'\n",
            " '/content/drive/MyDrive/archive/all-mias/mdb111.pgm'\n",
            " '/content/drive/MyDrive/archive/all-mias/mdb115.pgm'\n",
            " '/content/drive/MyDrive/archive/all-mias/mdb117.pgm'\n",
            " '/content/drive/MyDrive/archive/all-mias/mdb120.pgm'\n",
            " '/content/drive/MyDrive/archive/all-mias/mdb121.pgm'\n",
            " '/content/drive/MyDrive/archive/all-mias/mdb124.pgm'\n",
            " '/content/drive/MyDrive/archive/all-mias/mdb125.pgm'\n",
            " '/content/drive/MyDrive/archive/all-mias/mdb126.pgm'\n",
            " '/content/drive/MyDrive/archive/all-mias/mdb127.pgm'\n",
            " '/content/drive/MyDrive/archive/all-mias/mdb129.pgm'\n",
            " '/content/drive/MyDrive/archive/all-mias/mdb130.pgm'\n",
            " '/content/drive/MyDrive/archive/all-mias/mdb131.pgm'\n",
            " '/content/drive/MyDrive/archive/all-mias/mdb132.pgm'\n",
            " '/content/drive/MyDrive/archive/all-mias/mdb132.pgm'\n",
            " '/content/drive/MyDrive/archive/all-mias/mdb133.pgm'\n",
            " '/content/drive/MyDrive/archive/all-mias/mdb134.pgm'\n",
            " '/content/drive/MyDrive/archive/all-mias/mdb135.pgm'\n",
            " '/content/drive/MyDrive/archive/all-mias/mdb136.pgm'\n",
            " '/content/drive/MyDrive/archive/all-mias/mdb137.pgm'\n",
            " '/content/drive/MyDrive/archive/all-mias/mdb138.pgm'\n",
            " '/content/drive/MyDrive/archive/all-mias/mdb139.pgm'\n",
            " '/content/drive/MyDrive/archive/all-mias/mdb140.pgm'\n",
            " '/content/drive/MyDrive/archive/all-mias/mdb141.pgm'\n",
            " '/content/drive/MyDrive/archive/all-mias/mdb142.pgm'\n",
            " '/content/drive/MyDrive/archive/all-mias/mdb143.pgm'\n",
            " '/content/drive/MyDrive/archive/all-mias/mdb144.pgm'\n",
            " '/content/drive/MyDrive/archive/all-mias/mdb144.pgm'\n",
            " '/content/drive/MyDrive/archive/all-mias/mdb145.pgm'\n",
            " '/content/drive/MyDrive/archive/all-mias/mdb146.pgm'\n",
            " '/content/drive/MyDrive/archive/all-mias/mdb147.pgm'\n",
            " '/content/drive/MyDrive/archive/all-mias/mdb148.pgm'\n",
            " '/content/drive/MyDrive/archive/all-mias/mdb149.pgm'\n",
            " '/content/drive/MyDrive/archive/all-mias/mdb150.pgm'\n",
            " '/content/drive/MyDrive/archive/all-mias/mdb151.pgm'\n",
            " '/content/drive/MyDrive/archive/all-mias/mdb152.pgm'\n",
            " '/content/drive/MyDrive/archive/all-mias/mdb153.pgm'\n",
            " '/content/drive/MyDrive/archive/all-mias/mdb154.pgm'\n",
            " '/content/drive/MyDrive/archive/all-mias/mdb155.pgm'\n",
            " '/content/drive/MyDrive/archive/all-mias/mdb156.pgm'\n",
            " '/content/drive/MyDrive/archive/all-mias/mdb157.pgm'\n",
            " '/content/drive/MyDrive/archive/all-mias/mdb158.pgm'\n",
            " '/content/drive/MyDrive/archive/all-mias/mdb159.pgm'\n",
            " '/content/drive/MyDrive/archive/all-mias/mdb160.pgm'\n",
            " '/content/drive/MyDrive/archive/all-mias/mdb161.pgm'\n",
            " '/content/drive/MyDrive/archive/all-mias/mdb162.pgm'\n",
            " '/content/drive/MyDrive/archive/all-mias/mdb163.pgm'\n",
            " '/content/drive/MyDrive/archive/all-mias/mdb164.pgm'\n",
            " '/content/drive/MyDrive/archive/all-mias/mdb165.pgm'\n",
            " '/content/drive/MyDrive/archive/all-mias/mdb166.pgm'\n",
            " '/content/drive/MyDrive/archive/all-mias/mdb167.pgm'\n",
            " '/content/drive/MyDrive/archive/all-mias/mdb168.pgm'\n",
            " '/content/drive/MyDrive/archive/all-mias/mdb169.pgm'\n",
            " '/content/drive/MyDrive/archive/all-mias/mdb170.pgm'\n",
            " '/content/drive/MyDrive/archive/all-mias/mdb171.pgm'\n",
            " '/content/drive/MyDrive/archive/all-mias/mdb172.pgm'\n",
            " '/content/drive/MyDrive/archive/all-mias/mdb173.pgm'\n",
            " '/content/drive/MyDrive/archive/all-mias/mdb174.pgm'\n",
            " '/content/drive/MyDrive/archive/all-mias/mdb175.pgm'\n",
            " '/content/drive/MyDrive/archive/all-mias/mdb176.pgm'\n",
            " '/content/drive/MyDrive/archive/all-mias/mdb177.pgm'\n",
            " '/content/drive/MyDrive/archive/all-mias/mdb178.pgm'\n",
            " '/content/drive/MyDrive/archive/all-mias/mdb179.pgm'\n",
            " '/content/drive/MyDrive/archive/all-mias/mdb180.pgm'\n",
            " '/content/drive/MyDrive/archive/all-mias/mdb181.pgm'\n",
            " '/content/drive/MyDrive/archive/all-mias/mdb182.pgm'\n",
            " '/content/drive/MyDrive/archive/all-mias/mdb183.pgm'\n",
            " '/content/drive/MyDrive/archive/all-mias/mdb184.pgm'\n",
            " '/content/drive/MyDrive/archive/all-mias/mdb185.pgm'\n",
            " '/content/drive/MyDrive/archive/all-mias/mdb186.pgm'\n",
            " '/content/drive/MyDrive/archive/all-mias/mdb187.pgm'\n",
            " '/content/drive/MyDrive/archive/all-mias/mdb188.pgm'\n",
            " '/content/drive/MyDrive/archive/all-mias/mdb189.pgm'\n",
            " '/content/drive/MyDrive/archive/all-mias/mdb190.pgm'\n",
            " '/content/drive/MyDrive/archive/all-mias/mdb191.pgm'\n",
            " '/content/drive/MyDrive/archive/all-mias/mdb192.pgm'\n",
            " '/content/drive/MyDrive/archive/all-mias/mdb193.pgm'\n",
            " '/content/drive/MyDrive/archive/all-mias/mdb194.pgm'\n",
            " '/content/drive/MyDrive/archive/all-mias/mdb195.pgm'\n",
            " '/content/drive/MyDrive/archive/all-mias/mdb196.pgm'\n",
            " '/content/drive/MyDrive/archive/all-mias/mdb197.pgm'\n",
            " '/content/drive/MyDrive/archive/all-mias/mdb198.pgm'\n",
            " '/content/drive/MyDrive/archive/all-mias/mdb199.pgm'\n",
            " '/content/drive/MyDrive/archive/all-mias/mdb200.pgm'\n",
            " '/content/drive/MyDrive/archive/all-mias/mdb201.pgm'\n",
            " '/content/drive/MyDrive/archive/all-mias/mdb202.pgm'\n",
            " '/content/drive/MyDrive/archive/all-mias/mdb203.pgm'\n",
            " '/content/drive/MyDrive/archive/all-mias/mdb204.pgm'\n",
            " '/content/drive/MyDrive/archive/all-mias/mdb205.pgm'\n",
            " '/content/drive/MyDrive/archive/all-mias/mdb206.pgm'\n",
            " '/content/drive/MyDrive/archive/all-mias/mdb207.pgm'\n",
            " '/content/drive/MyDrive/archive/all-mias/mdb208.pgm'\n",
            " '/content/drive/MyDrive/archive/all-mias/mdb209.pgm'\n",
            " '/content/drive/MyDrive/archive/all-mias/mdb210.pgm'\n",
            " '/content/drive/MyDrive/archive/all-mias/mdb211.pgm'\n",
            " '/content/drive/MyDrive/archive/all-mias/mdb212.pgm'\n",
            " '/content/drive/MyDrive/archive/all-mias/mdb213.pgm'\n",
            " '/content/drive/MyDrive/archive/all-mias/mdb214.pgm'\n",
            " '/content/drive/MyDrive/archive/all-mias/mdb215.pgm'\n",
            " '/content/drive/MyDrive/archive/all-mias/mdb216.pgm'\n",
            " '/content/drive/MyDrive/archive/all-mias/mdb217.pgm'\n",
            " '/content/drive/MyDrive/archive/all-mias/mdb218.pgm'\n",
            " '/content/drive/MyDrive/archive/all-mias/mdb219.pgm'\n",
            " '/content/drive/MyDrive/archive/all-mias/mdb220.pgm'\n",
            " '/content/drive/MyDrive/archive/all-mias/mdb221.pgm'\n",
            " '/content/drive/MyDrive/archive/all-mias/mdb222.pgm'\n",
            " '/content/drive/MyDrive/archive/all-mias/mdb223.pgm'\n",
            " '/content/drive/MyDrive/archive/all-mias/mdb223.pgm'\n",
            " '/content/drive/MyDrive/archive/all-mias/mdb224.pgm'\n",
            " '/content/drive/MyDrive/archive/all-mias/mdb225.pgm'\n",
            " '/content/drive/MyDrive/archive/all-mias/mdb226.pgm'\n",
            " '/content/drive/MyDrive/archive/all-mias/mdb226.pgm'\n",
            " '/content/drive/MyDrive/archive/all-mias/mdb226.pgm'\n",
            " '/content/drive/MyDrive/archive/all-mias/mdb227.pgm'\n",
            " '/content/drive/MyDrive/archive/all-mias/mdb228.pgm'\n",
            " '/content/drive/MyDrive/archive/all-mias/mdb229.pgm'\n",
            " '/content/drive/MyDrive/archive/all-mias/mdb230.pgm'\n",
            " '/content/drive/MyDrive/archive/all-mias/mdb231.pgm'\n",
            " '/content/drive/MyDrive/archive/all-mias/mdb232.pgm'\n",
            " '/content/drive/MyDrive/archive/all-mias/mdb233.pgm'\n",
            " '/content/drive/MyDrive/archive/all-mias/mdb234.pgm'\n",
            " '/content/drive/MyDrive/archive/all-mias/mdb235.pgm'\n",
            " '/content/drive/MyDrive/archive/all-mias/mdb236.pgm'\n",
            " '/content/drive/MyDrive/archive/all-mias/mdb237.pgm'\n",
            " '/content/drive/MyDrive/archive/all-mias/mdb238.pgm'\n",
            " '/content/drive/MyDrive/archive/all-mias/mdb239.pgm'\n",
            " '/content/drive/MyDrive/archive/all-mias/mdb239.pgm'\n",
            " '/content/drive/MyDrive/archive/all-mias/mdb240.pgm'\n",
            " '/content/drive/MyDrive/archive/all-mias/mdb241.pgm'\n",
            " '/content/drive/MyDrive/archive/all-mias/mdb242.pgm'\n",
            " '/content/drive/MyDrive/archive/all-mias/mdb243.pgm'\n",
            " '/content/drive/MyDrive/archive/all-mias/mdb244.pgm'\n",
            " '/content/drive/MyDrive/archive/all-mias/mdb245.pgm'\n",
            " '/content/drive/MyDrive/archive/all-mias/mdb246.pgm'\n",
            " '/content/drive/MyDrive/archive/all-mias/mdb247.pgm'\n",
            " '/content/drive/MyDrive/archive/all-mias/mdb248.pgm'\n",
            " '/content/drive/MyDrive/archive/all-mias/mdb249.pgm'\n",
            " '/content/drive/MyDrive/archive/all-mias/mdb249.pgm'\n",
            " '/content/drive/MyDrive/archive/all-mias/mdb250.pgm'\n",
            " '/content/drive/MyDrive/archive/all-mias/mdb251.pgm'\n",
            " '/content/drive/MyDrive/archive/all-mias/mdb252.pgm'\n",
            " '/content/drive/MyDrive/archive/all-mias/mdb253.pgm'\n",
            " '/content/drive/MyDrive/archive/all-mias/mdb254.pgm'\n",
            " '/content/drive/MyDrive/archive/all-mias/mdb255.pgm'\n",
            " '/content/drive/MyDrive/archive/all-mias/mdb256.pgm'\n",
            " '/content/drive/MyDrive/archive/all-mias/mdb257.pgm'\n",
            " '/content/drive/MyDrive/archive/all-mias/mdb258.pgm'\n",
            " '/content/drive/MyDrive/archive/all-mias/mdb259.pgm'\n",
            " '/content/drive/MyDrive/archive/all-mias/mdb260.pgm'\n",
            " '/content/drive/MyDrive/archive/all-mias/mdb261.pgm'\n",
            " '/content/drive/MyDrive/archive/all-mias/mdb262.pgm'\n",
            " '/content/drive/MyDrive/archive/all-mias/mdb263.pgm'\n",
            " '/content/drive/MyDrive/archive/all-mias/mdb264.pgm'\n",
            " '/content/drive/MyDrive/archive/all-mias/mdb265.pgm'\n",
            " '/content/drive/MyDrive/archive/all-mias/mdb266.pgm'\n",
            " '/content/drive/MyDrive/archive/all-mias/mdb267.pgm'\n",
            " '/content/drive/MyDrive/archive/all-mias/mdb268.pgm'\n",
            " '/content/drive/MyDrive/archive/all-mias/mdb269.pgm'\n",
            " '/content/drive/MyDrive/archive/all-mias/mdb270.pgm'\n",
            " '/content/drive/MyDrive/archive/all-mias/mdb271.pgm'\n",
            " '/content/drive/MyDrive/archive/all-mias/mdb272.pgm'\n",
            " '/content/drive/MyDrive/archive/all-mias/mdb273.pgm'\n",
            " '/content/drive/MyDrive/archive/all-mias/mdb274.pgm'\n",
            " '/content/drive/MyDrive/archive/all-mias/mdb275.pgm'\n",
            " '/content/drive/MyDrive/archive/all-mias/mdb276.pgm'\n",
            " '/content/drive/MyDrive/archive/all-mias/mdb277.pgm'\n",
            " '/content/drive/MyDrive/archive/all-mias/mdb278.pgm'\n",
            " '/content/drive/MyDrive/archive/all-mias/mdb279.pgm'\n",
            " '/content/drive/MyDrive/archive/all-mias/mdb280.pgm'\n",
            " '/content/drive/MyDrive/archive/all-mias/mdb281.pgm'\n",
            " '/content/drive/MyDrive/archive/all-mias/mdb282.pgm'\n",
            " '/content/drive/MyDrive/archive/all-mias/mdb283.pgm'\n",
            " '/content/drive/MyDrive/archive/all-mias/mdb284.pgm'\n",
            " '/content/drive/MyDrive/archive/all-mias/mdb285.pgm'\n",
            " '/content/drive/MyDrive/archive/all-mias/mdb286.pgm'\n",
            " '/content/drive/MyDrive/archive/all-mias/mdb287.pgm'\n",
            " '/content/drive/MyDrive/archive/all-mias/mdb288.pgm'\n",
            " '/content/drive/MyDrive/archive/all-mias/mdb289.pgm'\n",
            " '/content/drive/MyDrive/archive/all-mias/mdb290.pgm'\n",
            " '/content/drive/MyDrive/archive/all-mias/mdb291.pgm'\n",
            " '/content/drive/MyDrive/archive/all-mias/mdb292.pgm'\n",
            " '/content/drive/MyDrive/archive/all-mias/mdb293.pgm'\n",
            " '/content/drive/MyDrive/archive/all-mias/mdb294.pgm'\n",
            " '/content/drive/MyDrive/archive/all-mias/mdb295.pgm'\n",
            " '/content/drive/MyDrive/archive/all-mias/mdb296.pgm'\n",
            " '/content/drive/MyDrive/archive/all-mias/mdb297.pgm'\n",
            " '/content/drive/MyDrive/archive/all-mias/mdb298.pgm'\n",
            " '/content/drive/MyDrive/archive/all-mias/mdb299.pgm'\n",
            " '/content/drive/MyDrive/archive/all-mias/mdb300.pgm'\n",
            " '/content/drive/MyDrive/archive/all-mias/mdb301.pgm'\n",
            " '/content/drive/MyDrive/archive/all-mias/mdb302.pgm'\n",
            " '/content/drive/MyDrive/archive/all-mias/mdb303.pgm'\n",
            " '/content/drive/MyDrive/archive/all-mias/mdb304.pgm'\n",
            " '/content/drive/MyDrive/archive/all-mias/mdb305.pgm'\n",
            " '/content/drive/MyDrive/archive/all-mias/mdb306.pgm'\n",
            " '/content/drive/MyDrive/archive/all-mias/mdb307.pgm'\n",
            " '/content/drive/MyDrive/archive/all-mias/mdb308.pgm'\n",
            " '/content/drive/MyDrive/archive/all-mias/mdb309.pgm'\n",
            " '/content/drive/MyDrive/archive/all-mias/mdb310.pgm'\n",
            " '/content/drive/MyDrive/archive/all-mias/mdb311.pgm'\n",
            " '/content/drive/MyDrive/archive/all-mias/mdb312.pgm'\n",
            " '/content/drive/MyDrive/archive/all-mias/mdb313.pgm'\n",
            " '/content/drive/MyDrive/archive/all-mias/mdb314.pgm'\n",
            " '/content/drive/MyDrive/archive/all-mias/mdb315.pgm'\n",
            " '/content/drive/MyDrive/archive/all-mias/mdb316.pgm'\n",
            " '/content/drive/MyDrive/archive/all-mias/mdb317.pgm'\n",
            " '/content/drive/MyDrive/archive/all-mias/mdb318.pgm'\n",
            " '/content/drive/MyDrive/archive/all-mias/mdb319.pgm'\n",
            " '/content/drive/MyDrive/archive/all-mias/mdb320.pgm'\n",
            " '/content/drive/MyDrive/archive/all-mias/mdb321.pgm'\n",
            " '/content/drive/MyDrive/archive/all-mias/mdb322.pgm']\n",
            "image address amount (246,)\n"
          ]
        }
      ],
      "source": [
        "print(img_name)\n",
        "print(f'image address amount {img_name.shape}')"
      ]
    },
    {
      "cell_type": "code",
      "execution_count": 13,
      "id": "8e3c567f",
      "metadata": {
        "_cell_guid": "9b8f052f-7af5-474e-b35e-301a7e2dcb33",
        "_uuid": "b6bbd1e8-e9d3-4029-8c21-c39ba9545926",
        "execution": {
          "iopub.execute_input": "2022-02-10T13:00:29.900643Z",
          "iopub.status.busy": "2022-02-10T13:00:29.898522Z",
          "iopub.status.idle": "2022-02-10T13:00:39.875137Z",
          "shell.execute_reply": "2022-02-10T13:00:39.874479Z",
          "shell.execute_reply.started": "2021-11-20T15:21:22.639126Z"
        },
        "jupyter": {
          "outputs_hidden": false
        },
        "papermill": {
          "duration": 10.063438,
          "end_time": "2022-02-10T13:00:39.875282",
          "exception": false,
          "start_time": "2022-02-10T13:00:29.811844",
          "status": "completed"
        },
        "tags": [],
        "id": "8e3c567f"
      },
      "outputs": [],
      "source": [
        "img_path = []\n",
        "last_label = []\n",
        "IMG_SIZE = 128\n",
        "\n",
        "for i in range(len(img_name)):\n",
        "\n",
        "    img = cv2.imread(img_name[i], 0)\n",
        "    img = cv2.resize(img, (IMG_SIZE,IMG_SIZE))\n",
        "    rows, cols= img.shape\n",
        "    for angle in range(180):\n",
        "            M = cv2.getRotationMatrix2D((cols / 2, rows / 2), angle*2, 1)    #Rotate 0 degree\n",
        "            img_rotated = cv2.warpAffine(img, M, (IMG_SIZE, IMG_SIZE))\n",
        "            img_path.append(img_rotated)\n",
        "            if label[i] == 1:\n",
        "                last_label.append(1)\n",
        "            else:\n",
        "                last_label.append(0)"
      ]
    },
    {
      "cell_type": "code",
      "execution_count": 14,
      "id": "1569155f",
      "metadata": {
        "_cell_guid": "623d690b-e1da-433b-b11f-f5ffa35a1bf9",
        "_uuid": "0d540c28-7b26-4eef-8bf5-d44dcce3e491",
        "execution": {
          "iopub.execute_input": "2022-02-10T13:00:39.985789Z",
          "iopub.status.busy": "2022-02-10T13:00:39.984622Z",
          "iopub.status.idle": "2022-02-10T13:00:40.244633Z",
          "shell.execute_reply": "2022-02-10T13:00:40.245065Z",
          "shell.execute_reply.started": "2021-11-20T15:21:32.46547Z"
        },
        "jupyter": {
          "outputs_hidden": false
        },
        "papermill": {
          "duration": 0.320058,
          "end_time": "2022-02-10T13:00:40.245221",
          "exception": false,
          "start_time": "2022-02-10T13:00:39.925163",
          "status": "completed"
        },
        "tags": [],
        "colab": {
          "base_uri": "https://localhost:8080/"
        },
        "id": "1569155f",
        "outputId": "7a037e97-b59e-4718-d5a0-31af5e09e5ad"
      },
      "outputs": [
        {
          "output_type": "execute_result",
          "data": {
            "text/plain": [
              "(44280, 128, 128)"
            ]
          },
          "metadata": {},
          "execution_count": 14
        }
      ],
      "source": [
        "img_path = np.array(img_path)\n",
        "last_label = np.array(last_label)\n",
        "img_path.shape"
      ]
    },
    {
      "cell_type": "code",
      "execution_count": 15,
      "id": "8c29a0d7",
      "metadata": {
        "_cell_guid": "ed40356e-680d-4008-8879-4b2bb5606757",
        "_uuid": "52f49e4f-9994-4f1d-9810-472c276ef03e",
        "execution": {
          "iopub.execute_input": "2022-02-10T13:00:40.343620Z",
          "iopub.status.busy": "2022-02-10T13:00:40.342979Z",
          "iopub.status.idle": "2022-02-10T13:00:40.345484Z",
          "shell.execute_reply": "2022-02-10T13:00:40.345895Z",
          "shell.execute_reply.started": "2021-11-20T15:21:32.803807Z"
        },
        "jupyter": {
          "outputs_hidden": false
        },
        "papermill": {
          "duration": 0.054407,
          "end_time": "2022-02-10T13:00:40.346015",
          "exception": false,
          "start_time": "2022-02-10T13:00:40.291608",
          "status": "completed"
        },
        "tags": [],
        "colab": {
          "base_uri": "https://localhost:8080/"
        },
        "id": "8c29a0d7",
        "outputId": "8e05aa13-df63-4add-c44a-86615abf5f48"
      },
      "outputs": [
        {
          "output_type": "execute_result",
          "data": {
            "text/plain": [
              "(44280, 128, 128, 1)"
            ]
          },
          "metadata": {},
          "execution_count": 15
        }
      ],
      "source": [
        "img_path = img_path.reshape((-1,IMG_SIZE,IMG_SIZE,1))\n",
        "img_path.shape"
      ]
    },
    {
      "cell_type": "code",
      "execution_count": 16,
      "id": "6c68e46a",
      "metadata": {
        "_cell_guid": "7da01e1a-a4d5-4f82-beea-973837347bd1",
        "_uuid": "3437336e-089a-478b-a5d4-b7cb27697a26",
        "execution": {
          "iopub.execute_input": "2022-02-10T13:00:40.444770Z",
          "iopub.status.busy": "2022-02-10T13:00:40.444061Z",
          "iopub.status.idle": "2022-02-10T13:00:40.446808Z",
          "shell.execute_reply": "2022-02-10T13:00:40.447212Z",
          "shell.execute_reply.started": "2021-11-20T15:21:32.813864Z"
        },
        "jupyter": {
          "outputs_hidden": false
        },
        "papermill": {
          "duration": 0.054774,
          "end_time": "2022-02-10T13:00:40.447346",
          "exception": false,
          "start_time": "2022-02-10T13:00:40.392572",
          "status": "completed"
        },
        "tags": [],
        "colab": {
          "base_uri": "https://localhost:8080/"
        },
        "id": "6c68e46a",
        "outputId": "c87d8bca-6245-45ac-8fb5-070088ae99f6"
      },
      "outputs": [
        {
          "output_type": "execute_result",
          "data": {
            "text/plain": [
              "(44280,)"
            ]
          },
          "metadata": {},
          "execution_count": 16
        }
      ],
      "source": [
        "last_label.shape"
      ]
    },
    {
      "cell_type": "code",
      "execution_count": 17,
      "id": "317c00e6",
      "metadata": {
        "_cell_guid": "b969b73e-b5c2-4824-afe3-f3e25b87820b",
        "_uuid": "b07f5e29-4dd6-4e57-a53c-f8b8d0e57698",
        "execution": {
          "iopub.execute_input": "2022-02-10T13:00:40.549879Z",
          "iopub.status.busy": "2022-02-10T13:00:40.548741Z",
          "iopub.status.idle": "2022-02-10T13:00:40.753636Z",
          "shell.execute_reply": "2022-02-10T13:00:40.752670Z",
          "shell.execute_reply.started": "2021-11-20T15:21:32.827318Z"
        },
        "jupyter": {
          "outputs_hidden": false
        },
        "papermill": {
          "duration": 0.259322,
          "end_time": "2022-02-10T13:00:40.753791",
          "exception": false,
          "start_time": "2022-02-10T13:00:40.494469",
          "status": "completed"
        },
        "tags": [],
        "id": "317c00e6"
      },
      "outputs": [],
      "source": [
        "# split train and test set\n",
        "x_train, x_test, y_train, y_test = train_test_split(img_path, last_label, test_size = 0.3, random_state = 42)"
      ]
    },
    {
      "cell_type": "code",
      "execution_count": 18,
      "id": "a3462173",
      "metadata": {
        "_cell_guid": "b81857a4-270e-4454-87e6-f2e7b1d00ad7",
        "_uuid": "b663039a-2632-4a8b-a057-10eff3ae03c9",
        "execution": {
          "iopub.execute_input": "2022-02-10T13:00:40.854612Z",
          "iopub.status.busy": "2022-02-10T13:00:40.853455Z",
          "iopub.status.idle": "2022-02-10T13:00:40.856573Z",
          "shell.execute_reply": "2022-02-10T13:00:40.857016Z",
          "shell.execute_reply.started": "2021-11-20T15:21:33.043614Z"
        },
        "jupyter": {
          "outputs_hidden": false
        },
        "papermill": {
          "duration": 0.055828,
          "end_time": "2022-02-10T13:00:40.857145",
          "exception": false,
          "start_time": "2022-02-10T13:00:40.801317",
          "status": "completed"
        },
        "tags": [],
        "colab": {
          "base_uri": "https://localhost:8080/"
        },
        "id": "a3462173",
        "outputId": "41dfb3da-0ba7-4483-e744-a7cfc82c1240"
      },
      "outputs": [
        {
          "output_type": "execute_result",
          "data": {
            "text/plain": [
              "(30996, 13284, 30996, 13284)"
            ]
          },
          "metadata": {},
          "execution_count": 18
        }
      ],
      "source": [
        "len(x_train),len(x_test),len(y_train),len(y_test)"
      ]
    },
    {
      "cell_type": "markdown",
      "source": [
        "CNN Model"
      ],
      "metadata": {
        "id": "T2d_Qf1Upe4e"
      },
      "id": "T2d_Qf1Upe4e"
    },
    {
      "cell_type": "code",
      "execution_count": 19,
      "id": "de12f3c2",
      "metadata": {
        "_cell_guid": "6ca32782-86d2-43a0-9381-84f01d0452d3",
        "_uuid": "976e7a54-c2f6-496e-a166-0a6c786e58fa",
        "execution": {
          "iopub.execute_input": "2022-02-10T13:00:40.955891Z",
          "iopub.status.busy": "2022-02-10T13:00:40.955237Z",
          "iopub.status.idle": "2022-02-10T13:00:41.779030Z",
          "shell.execute_reply": "2022-02-10T13:00:41.778332Z",
          "shell.execute_reply.started": "2021-11-20T15:21:33.055153Z"
        },
        "jupyter": {
          "outputs_hidden": false
        },
        "papermill": {
          "duration": 0.875623,
          "end_time": "2022-02-10T13:00:41.779179",
          "exception": false,
          "start_time": "2022-02-10T13:00:40.903556",
          "status": "completed"
        },
        "tags": [],
        "id": "de12f3c2"
      },
      "outputs": [],
      "source": [
        "from tensorflow.keras.layers import *\n",
        "from tensorflow.keras.models import Sequential, Model\n",
        "from tensorflow.keras.activations import *\n",
        "from keras.callbacks import TensorBoard\n",
        "from tensorflow.keras.callbacks import EarlyStopping, ModelCheckpoint\n",
        "from time import time"
      ]
    },
    {
      "cell_type": "code",
      "execution_count": 20,
      "id": "ac2beee8",
      "metadata": {
        "_cell_guid": "5853cf85-d812-498e-984a-17d4a3e495c1",
        "_uuid": "32411fc7-e64c-469d-8123-e4d8e0501a04",
        "execution": {
          "iopub.execute_input": "2022-02-10T13:00:41.885969Z",
          "iopub.status.busy": "2022-02-10T13:00:41.885267Z",
          "iopub.status.idle": "2022-02-10T13:00:44.039162Z",
          "shell.execute_reply": "2022-02-10T13:00:44.039681Z",
          "shell.execute_reply.started": "2021-11-20T15:21:34.064162Z"
        },
        "jupyter": {
          "outputs_hidden": false
        },
        "papermill": {
          "duration": 2.211691,
          "end_time": "2022-02-10T13:00:44.039854",
          "exception": false,
          "start_time": "2022-02-10T13:00:41.828163",
          "status": "completed"
        },
        "tags": [],
        "colab": {
          "base_uri": "https://localhost:8080/"
        },
        "id": "ac2beee8",
        "outputId": "69e4db69-3a88-4431-dc15-2a349b295ea0"
      },
      "outputs": [
        {
          "output_type": "stream",
          "name": "stderr",
          "text": [
            "/usr/local/lib/python3.10/dist-packages/keras/initializers/initializers.py:120: UserWarning: The initializer RandomNormal is unseeded and being called multiple times, which will return identical values each time (even if the initializer is unseeded). Please update your code to provide a seed to the initializer, or avoid using the same initalizer instance more than once.\n",
            "  warnings.warn(\n"
          ]
        }
      ],
      "source": [
        "reg = tf.keras.regularizers.L2(l2=1e-5)\n",
        "ini = tf.keras.initializers.RandomNormal(mean=0.0, stddev=0.02, seed=None)\n",
        "\n",
        "\n",
        "model = Sequential()\n",
        "model.add(Conv2D(32,\n",
        "                 kernel_size=(3, 3),\n",
        "                 activation='relu',\n",
        "                 kernel_initializer = ini,\n",
        "                 input_shape=(IMG_SIZE, IMG_SIZE, 1)))\n",
        "model.add(Conv2D(64,\n",
        "                 kernel_size=(3,3),\n",
        "                 kernel_initializer = ini,\n",
        "                 activation='relu'))\n",
        "model.add(MaxPool2D(pool_size=(2, 2)))\n",
        "model.add(Conv2D(64,\n",
        "                 kernel_size=(3,3),\n",
        "                 kernel_initializer = ini,\n",
        "                 activation='relu'))\n",
        "model.add(MaxPool2D(pool_size=(2, 2)))\n",
        "model.add(Dropout(0.25))\n",
        "\n",
        "model.add(Dense(64,\n",
        "                kernel_initializer = ini,\n",
        "                activation='relu'))\n",
        "model.add(Dropout(0.25))\n",
        "model.add(Flatten())\n",
        "model.add(Dense(1, activation='sigmoid'))\n",
        "\n",
        "optimizer = tf.keras.optimizers.Adam(\n",
        "    learning_rate=1e-3)\n",
        "\n",
        "model.compile(optimizer=optimizer,\n",
        "              loss= 'binary_crossentropy',\n",
        "              metrics=['accuracy'])"
      ]
    },
    {
      "cell_type": "code",
      "execution_count": 21,
      "id": "6be1fe26",
      "metadata": {
        "_cell_guid": "94a25c46-9e5a-4b40-b9a0-8acd0da202c0",
        "_uuid": "a20f2856-871f-4693-b021-97e737a1ff5a",
        "execution": {
          "iopub.execute_input": "2022-02-10T13:00:44.141858Z",
          "iopub.status.busy": "2022-02-10T13:00:44.140995Z",
          "iopub.status.idle": "2022-02-10T13:00:44.148497Z",
          "shell.execute_reply": "2022-02-10T13:00:44.149103Z",
          "shell.execute_reply.started": "2021-11-20T15:21:37.018782Z"
        },
        "jupyter": {
          "outputs_hidden": false
        },
        "papermill": {
          "duration": 0.060764,
          "end_time": "2022-02-10T13:00:44.149285",
          "exception": false,
          "start_time": "2022-02-10T13:00:44.088521",
          "status": "completed"
        },
        "tags": [],
        "colab": {
          "base_uri": "https://localhost:8080/"
        },
        "id": "6be1fe26",
        "outputId": "aa68f541-2187-464b-88dc-a4667c8e69c4"
      },
      "outputs": [
        {
          "output_type": "stream",
          "name": "stdout",
          "text": [
            "Model: \"sequential\"\n",
            "_________________________________________________________________\n",
            " Layer (type)                Output Shape              Param #   \n",
            "=================================================================\n",
            " conv2d (Conv2D)             (None, 126, 126, 32)      320       \n",
            "                                                                 \n",
            " conv2d_1 (Conv2D)           (None, 124, 124, 64)      18496     \n",
            "                                                                 \n",
            " max_pooling2d (MaxPooling2D  (None, 62, 62, 64)       0         \n",
            " )                                                               \n",
            "                                                                 \n",
            " conv2d_2 (Conv2D)           (None, 60, 60, 64)        36928     \n",
            "                                                                 \n",
            " max_pooling2d_1 (MaxPooling  (None, 30, 30, 64)       0         \n",
            " 2D)                                                             \n",
            "                                                                 \n",
            " dropout (Dropout)           (None, 30, 30, 64)        0         \n",
            "                                                                 \n",
            " dense (Dense)               (None, 30, 30, 64)        4160      \n",
            "                                                                 \n",
            " dropout_1 (Dropout)         (None, 30, 30, 64)        0         \n",
            "                                                                 \n",
            " flatten (Flatten)           (None, 57600)             0         \n",
            "                                                                 \n",
            " dense_1 (Dense)             (None, 1)                 57601     \n",
            "                                                                 \n",
            "=================================================================\n",
            "Total params: 117,505\n",
            "Trainable params: 117,505\n",
            "Non-trainable params: 0\n",
            "_________________________________________________________________\n"
          ]
        }
      ],
      "source": [
        "model.summary()"
      ]
    },
    {
      "cell_type": "code",
      "execution_count": 22,
      "id": "eb773497",
      "metadata": {
        "_cell_guid": "66e8f466-4484-44d3-8fb7-3b68c5faf477",
        "_uuid": "e7bae083-9eed-401f-ae36-b99186378788",
        "execution": {
          "iopub.execute_input": "2022-02-10T13:00:44.258480Z",
          "iopub.status.busy": "2022-02-10T13:00:44.256294Z",
          "iopub.status.idle": "2022-02-10T13:00:44.260937Z",
          "shell.execute_reply": "2022-02-10T13:00:44.260496Z",
          "shell.execute_reply.started": "2021-11-20T15:21:37.032991Z"
        },
        "jupyter": {
          "outputs_hidden": false
        },
        "papermill": {
          "duration": 0.058789,
          "end_time": "2022-02-10T13:00:44.261065",
          "exception": false,
          "start_time": "2022-02-10T13:00:44.202276",
          "status": "completed"
        },
        "tags": [],
        "id": "eb773497"
      },
      "outputs": [],
      "source": [
        "early_stop = EarlyStopping(monitor='val_loss', mode='min', patience=5 ,restore_best_weights=True, verbose=1)\n",
        "\n",
        "check_point_filepath = './'\n",
        "\n",
        "model_check_point = ModelCheckpoint(filepath =check_point_filepath, monitor='val_loss', verbose=1, save_best_only=True,\n",
        "                                    save_weights_only=False, mode='auto', save_freq='epoch')"
      ]
    },
    {
      "cell_type": "code",
      "execution_count": 23,
      "id": "d45cd996",
      "metadata": {
        "_cell_guid": "41f39822-6a44-4979-898c-d4ce3439dce1",
        "_uuid": "c5383e7e-cfaf-4635-95db-240582726fa1",
        "execution": {
          "iopub.execute_input": "2022-02-10T13:00:44.363675Z",
          "iopub.status.busy": "2022-02-10T13:00:44.363118Z",
          "iopub.status.idle": "2022-02-10T13:15:05.749839Z",
          "shell.execute_reply": "2022-02-10T13:15:05.750512Z",
          "shell.execute_reply.started": "2021-11-20T15:21:37.043517Z"
        },
        "jupyter": {
          "outputs_hidden": false
        },
        "papermill": {
          "duration": 861.441241,
          "end_time": "2022-02-10T13:15:05.750752",
          "exception": false,
          "start_time": "2022-02-10T13:00:44.309511",
          "status": "completed"
        },
        "tags": [],
        "colab": {
          "base_uri": "https://localhost:8080/"
        },
        "id": "d45cd996",
        "outputId": "63445988-4816-43a8-d8ca-8a8a71308181"
      },
      "outputs": [
        {
          "output_type": "stream",
          "name": "stdout",
          "text": [
            "Epoch 1/100\n",
            "194/194 [==============================] - ETA: 0s - loss: 0.6936 - accuracy: 0.5059\n",
            "Epoch 1: val_loss improved from inf to 0.69195, saving model to ./\n"
          ]
        },
        {
          "output_type": "stream",
          "name": "stderr",
          "text": [
            "WARNING:absl:Found untraced functions such as _jit_compiled_convolution_op, _jit_compiled_convolution_op, _jit_compiled_convolution_op while saving (showing 3 of 3). These functions will not be directly callable after loading.\n"
          ]
        },
        {
          "output_type": "stream",
          "name": "stdout",
          "text": [
            "\b\b\b\b\b\b\b\b\b\b\b\b\b\b\b\b\b\b\b\b\b\b\b\b\b\b\b\b\b\b\b\b\b\b\b\b\b\b\b\b\b\b\b\b\b\b\b\b\b\b\b\b\b\b\b\b\b\b\b\b\b\b\b\b\b\b\b\b\b\b\b\b\b\b\b\b\b\b\b\b\b\b\b\b\r194/194 [==============================] - 54s 192ms/step - loss: 0.6936 - accuracy: 0.5059 - val_loss: 0.6920 - val_accuracy: 0.5352\n",
            "Epoch 2/100\n",
            "194/194 [==============================] - ETA: 0s - loss: 0.6835 - accuracy: 0.5485\n",
            "Epoch 2: val_loss improved from 0.69195 to 0.66565, saving model to ./\n"
          ]
        },
        {
          "output_type": "stream",
          "name": "stderr",
          "text": [
            "WARNING:absl:Found untraced functions such as _jit_compiled_convolution_op, _jit_compiled_convolution_op, _jit_compiled_convolution_op while saving (showing 3 of 3). These functions will not be directly callable after loading.\n"
          ]
        },
        {
          "output_type": "stream",
          "name": "stdout",
          "text": [
            "\b\b\b\b\b\b\b\b\b\b\b\b\b\b\b\b\b\b\b\b\b\b\b\b\b\b\b\b\b\b\b\b\b\b\b\b\b\b\b\b\b\b\b\b\b\b\b\b\b\b\b\b\b\b\b\b\b\b\b\b\b\b\b\b\b\b\b\b\b\b\b\b\b\b\b\b\b\b\b\b\b\b\b\b\r194/194 [==============================] - 35s 183ms/step - loss: 0.6835 - accuracy: 0.5485 - val_loss: 0.6656 - val_accuracy: 0.5797\n",
            "Epoch 3/100\n",
            "194/194 [==============================] - ETA: 0s - loss: 0.6561 - accuracy: 0.5963\n",
            "Epoch 3: val_loss improved from 0.66565 to 0.64566, saving model to ./\n"
          ]
        },
        {
          "output_type": "stream",
          "name": "stderr",
          "text": [
            "WARNING:absl:Found untraced functions such as _jit_compiled_convolution_op, _jit_compiled_convolution_op, _jit_compiled_convolution_op while saving (showing 3 of 3). These functions will not be directly callable after loading.\n"
          ]
        },
        {
          "output_type": "stream",
          "name": "stdout",
          "text": [
            "\b\b\b\b\b\b\b\b\b\b\b\b\b\b\b\b\b\b\b\b\b\b\b\b\b\b\b\b\b\b\b\b\b\b\b\b\b\b\b\b\b\b\b\b\b\b\b\b\b\b\b\b\b\b\b\b\b\b\b\b\b\b\b\b\b\b\b\b\b\b\b\b\b\b\b\b\b\b\b\b\b\b\b\b\r194/194 [==============================] - 34s 177ms/step - loss: 0.6561 - accuracy: 0.5963 - val_loss: 0.6457 - val_accuracy: 0.6032\n",
            "Epoch 4/100\n",
            "194/194 [==============================] - ETA: 0s - loss: 0.6307 - accuracy: 0.6240\n",
            "Epoch 4: val_loss improved from 0.64566 to 0.62595, saving model to ./\n"
          ]
        },
        {
          "output_type": "stream",
          "name": "stderr",
          "text": [
            "WARNING:absl:Found untraced functions such as _jit_compiled_convolution_op, _jit_compiled_convolution_op, _jit_compiled_convolution_op while saving (showing 3 of 3). These functions will not be directly callable after loading.\n"
          ]
        },
        {
          "output_type": "stream",
          "name": "stdout",
          "text": [
            "\b\b\b\b\b\b\b\b\b\b\b\b\b\b\b\b\b\b\b\b\b\b\b\b\b\b\b\b\b\b\b\b\b\b\b\b\b\b\b\b\b\b\b\b\b\b\b\b\b\b\b\b\b\b\b\b\b\b\b\b\b\b\b\b\b\b\b\b\b\b\b\b\b\b\b\b\b\b\b\b\b\b\b\b\r194/194 [==============================] - 35s 182ms/step - loss: 0.6307 - accuracy: 0.6240 - val_loss: 0.6259 - val_accuracy: 0.6290\n",
            "Epoch 5/100\n",
            "194/194 [==============================] - ETA: 0s - loss: 0.6069 - accuracy: 0.6472\n",
            "Epoch 5: val_loss improved from 0.62595 to 0.60950, saving model to ./\n"
          ]
        },
        {
          "output_type": "stream",
          "name": "stderr",
          "text": [
            "WARNING:absl:Found untraced functions such as _jit_compiled_convolution_op, _jit_compiled_convolution_op, _jit_compiled_convolution_op while saving (showing 3 of 3). These functions will not be directly callable after loading.\n"
          ]
        },
        {
          "output_type": "stream",
          "name": "stdout",
          "text": [
            "\b\b\b\b\b\b\b\b\b\b\b\b\b\b\b\b\b\b\b\b\b\b\b\b\b\b\b\b\b\b\b\b\b\b\b\b\b\b\b\b\b\b\b\b\b\b\b\b\b\b\b\b\b\b\b\b\b\b\b\b\b\b\b\b\b\b\b\b\b\b\b\b\b\b\b\b\b\b\b\b\b\b\b\b\r194/194 [==============================] - 35s 181ms/step - loss: 0.6069 - accuracy: 0.6472 - val_loss: 0.6095 - val_accuracy: 0.6516\n",
            "Epoch 6/100\n",
            "194/194 [==============================] - ETA: 0s - loss: 0.5799 - accuracy: 0.6744\n",
            "Epoch 6: val_loss improved from 0.60950 to 0.60269, saving model to ./\n"
          ]
        },
        {
          "output_type": "stream",
          "name": "stderr",
          "text": [
            "WARNING:absl:Found untraced functions such as _jit_compiled_convolution_op, _jit_compiled_convolution_op, _jit_compiled_convolution_op while saving (showing 3 of 3). These functions will not be directly callable after loading.\n"
          ]
        },
        {
          "output_type": "stream",
          "name": "stdout",
          "text": [
            "\b\b\b\b\b\b\b\b\b\b\b\b\b\b\b\b\b\b\b\b\b\b\b\b\b\b\b\b\b\b\b\b\b\b\b\b\b\b\b\b\b\b\b\b\b\b\b\b\b\b\b\b\b\b\b\b\b\b\b\b\b\b\b\b\b\b\b\b\b\b\b\b\b\b\b\b\b\b\b\b\b\b\b\b\r194/194 [==============================] - 35s 179ms/step - loss: 0.5799 - accuracy: 0.6744 - val_loss: 0.6027 - val_accuracy: 0.6661\n",
            "Epoch 7/100\n",
            "194/194 [==============================] - ETA: 0s - loss: 0.5503 - accuracy: 0.6969\n",
            "Epoch 7: val_loss improved from 0.60269 to 0.57048, saving model to ./\n"
          ]
        },
        {
          "output_type": "stream",
          "name": "stderr",
          "text": [
            "WARNING:absl:Found untraced functions such as _jit_compiled_convolution_op, _jit_compiled_convolution_op, _jit_compiled_convolution_op while saving (showing 3 of 3). These functions will not be directly callable after loading.\n"
          ]
        },
        {
          "output_type": "stream",
          "name": "stdout",
          "text": [
            "\b\b\b\b\b\b\b\b\b\b\b\b\b\b\b\b\b\b\b\b\b\b\b\b\b\b\b\b\b\b\b\b\b\b\b\b\b\b\b\b\b\b\b\b\b\b\b\b\b\b\b\b\b\b\b\b\b\b\b\b\b\b\b\b\b\b\b\b\b\b\b\b\b\b\b\b\b\b\b\b\b\b\b\b\r194/194 [==============================] - 34s 174ms/step - loss: 0.5503 - accuracy: 0.6969 - val_loss: 0.5705 - val_accuracy: 0.6827\n",
            "Epoch 8/100\n",
            "194/194 [==============================] - ETA: 0s - loss: 0.5230 - accuracy: 0.7182\n",
            "Epoch 8: val_loss improved from 0.57048 to 0.53931, saving model to ./\n"
          ]
        },
        {
          "output_type": "stream",
          "name": "stderr",
          "text": [
            "WARNING:absl:Found untraced functions such as _jit_compiled_convolution_op, _jit_compiled_convolution_op, _jit_compiled_convolution_op while saving (showing 3 of 3). These functions will not be directly callable after loading.\n"
          ]
        },
        {
          "output_type": "stream",
          "name": "stdout",
          "text": [
            "\b\b\b\b\b\b\b\b\b\b\b\b\b\b\b\b\b\b\b\b\b\b\b\b\b\b\b\b\b\b\b\b\b\b\b\b\b\b\b\b\b\b\b\b\b\b\b\b\b\b\b\b\b\b\b\b\b\b\b\b\b\b\b\b\b\b\b\b\b\b\b\b\b\b\b\b\b\b\b\b\b\b\b\b\r194/194 [==============================] - 34s 177ms/step - loss: 0.5230 - accuracy: 0.7182 - val_loss: 0.5393 - val_accuracy: 0.7068\n",
            "Epoch 9/100\n",
            "194/194 [==============================] - ETA: 0s - loss: 0.4920 - accuracy: 0.7397\n",
            "Epoch 9: val_loss improved from 0.53931 to 0.53020, saving model to ./\n"
          ]
        },
        {
          "output_type": "stream",
          "name": "stderr",
          "text": [
            "WARNING:absl:Found untraced functions such as _jit_compiled_convolution_op, _jit_compiled_convolution_op, _jit_compiled_convolution_op while saving (showing 3 of 3). These functions will not be directly callable after loading.\n"
          ]
        },
        {
          "output_type": "stream",
          "name": "stdout",
          "text": [
            "\b\b\b\b\b\b\b\b\b\b\b\b\b\b\b\b\b\b\b\b\b\b\b\b\b\b\b\b\b\b\b\b\b\b\b\b\b\b\b\b\b\b\b\b\b\b\b\b\b\b\b\b\b\b\b\b\b\b\b\b\b\b\b\b\b\b\b\b\b\b\b\b\b\b\b\b\b\b\b\b\b\b\b\b\r194/194 [==============================] - 37s 189ms/step - loss: 0.4920 - accuracy: 0.7397 - val_loss: 0.5302 - val_accuracy: 0.7273\n",
            "Epoch 10/100\n",
            "194/194 [==============================] - ETA: 0s - loss: 0.4641 - accuracy: 0.7641\n",
            "Epoch 10: val_loss improved from 0.53020 to 0.51004, saving model to ./\n"
          ]
        },
        {
          "output_type": "stream",
          "name": "stderr",
          "text": [
            "WARNING:absl:Found untraced functions such as _jit_compiled_convolution_op, _jit_compiled_convolution_op, _jit_compiled_convolution_op while saving (showing 3 of 3). These functions will not be directly callable after loading.\n"
          ]
        },
        {
          "output_type": "stream",
          "name": "stdout",
          "text": [
            "\b\b\b\b\b\b\b\b\b\b\b\b\b\b\b\b\b\b\b\b\b\b\b\b\b\b\b\b\b\b\b\b\b\b\b\b\b\b\b\b\b\b\b\b\b\b\b\b\b\b\b\b\b\b\b\b\b\b\b\b\b\b\b\b\b\b\b\b\b\b\b\b\b\b\b\b\b\b\b\b\b\b\b\b\r194/194 [==============================] - 36s 186ms/step - loss: 0.4641 - accuracy: 0.7641 - val_loss: 0.5100 - val_accuracy: 0.7406\n",
            "Epoch 11/100\n",
            "194/194 [==============================] - ETA: 0s - loss: 0.4419 - accuracy: 0.7736\n",
            "Epoch 11: val_loss improved from 0.51004 to 0.47412, saving model to ./\n"
          ]
        },
        {
          "output_type": "stream",
          "name": "stderr",
          "text": [
            "WARNING:absl:Found untraced functions such as _jit_compiled_convolution_op, _jit_compiled_convolution_op, _jit_compiled_convolution_op while saving (showing 3 of 3). These functions will not be directly callable after loading.\n"
          ]
        },
        {
          "output_type": "stream",
          "name": "stdout",
          "text": [
            "\b\b\b\b\b\b\b\b\b\b\b\b\b\b\b\b\b\b\b\b\b\b\b\b\b\b\b\b\b\b\b\b\b\b\b\b\b\b\b\b\b\b\b\b\b\b\b\b\b\b\b\b\b\b\b\b\b\b\b\b\b\b\b\b\b\b\b\b\b\b\b\b\b\b\b\b\b\b\b\b\b\b\b\b\r194/194 [==============================] - 34s 176ms/step - loss: 0.4419 - accuracy: 0.7736 - val_loss: 0.4741 - val_accuracy: 0.7569\n",
            "Epoch 12/100\n",
            "194/194 [==============================] - ETA: 0s - loss: 0.4146 - accuracy: 0.7917\n",
            "Epoch 12: val_loss improved from 0.47412 to 0.46789, saving model to ./\n"
          ]
        },
        {
          "output_type": "stream",
          "name": "stderr",
          "text": [
            "WARNING:absl:Found untraced functions such as _jit_compiled_convolution_op, _jit_compiled_convolution_op, _jit_compiled_convolution_op while saving (showing 3 of 3). These functions will not be directly callable after loading.\n"
          ]
        },
        {
          "output_type": "stream",
          "name": "stdout",
          "text": [
            "\b\b\b\b\b\b\b\b\b\b\b\b\b\b\b\b\b\b\b\b\b\b\b\b\b\b\b\b\b\b\b\b\b\b\b\b\b\b\b\b\b\b\b\b\b\b\b\b\b\b\b\b\b\b\b\b\b\b\b\b\b\b\b\b\b\b\b\b\b\b\b\b\b\b\b\b\b\b\b\b\b\b\b\b\r194/194 [==============================] - 34s 178ms/step - loss: 0.4146 - accuracy: 0.7917 - val_loss: 0.4679 - val_accuracy: 0.7729\n",
            "Epoch 13/100\n",
            "194/194 [==============================] - ETA: 0s - loss: 0.3881 - accuracy: 0.8105\n",
            "Epoch 13: val_loss improved from 0.46789 to 0.44196, saving model to ./\n"
          ]
        },
        {
          "output_type": "stream",
          "name": "stderr",
          "text": [
            "WARNING:absl:Found untraced functions such as _jit_compiled_convolution_op, _jit_compiled_convolution_op, _jit_compiled_convolution_op while saving (showing 3 of 3). These functions will not be directly callable after loading.\n"
          ]
        },
        {
          "output_type": "stream",
          "name": "stdout",
          "text": [
            "\b\b\b\b\b\b\b\b\b\b\b\b\b\b\b\b\b\b\b\b\b\b\b\b\b\b\b\b\b\b\b\b\b\b\b\b\b\b\b\b\b\b\b\b\b\b\b\b\b\b\b\b\b\b\b\b\b\b\b\b\b\b\b\b\b\b\b\b\b\b\b\b\b\b\b\b\b\b\b\b\b\b\b\b\r194/194 [==============================] - 35s 180ms/step - loss: 0.3881 - accuracy: 0.8105 - val_loss: 0.4420 - val_accuracy: 0.7847\n",
            "Epoch 14/100\n",
            "194/194 [==============================] - ETA: 0s - loss: 0.3619 - accuracy: 0.8276\n",
            "Epoch 14: val_loss improved from 0.44196 to 0.42639, saving model to ./\n"
          ]
        },
        {
          "output_type": "stream",
          "name": "stderr",
          "text": [
            "WARNING:absl:Found untraced functions such as _jit_compiled_convolution_op, _jit_compiled_convolution_op, _jit_compiled_convolution_op while saving (showing 3 of 3). These functions will not be directly callable after loading.\n"
          ]
        },
        {
          "output_type": "stream",
          "name": "stdout",
          "text": [
            "\b\b\b\b\b\b\b\b\b\b\b\b\b\b\b\b\b\b\b\b\b\b\b\b\b\b\b\b\b\b\b\b\b\b\b\b\b\b\b\b\b\b\b\b\b\b\b\b\b\b\b\b\b\b\b\b\b\b\b\b\b\b\b\b\b\b\b\b\b\b\b\b\b\b\b\b\b\b\b\b\b\b\b\b\r194/194 [==============================] - 36s 184ms/step - loss: 0.3619 - accuracy: 0.8276 - val_loss: 0.4264 - val_accuracy: 0.8015\n",
            "Epoch 15/100\n",
            "194/194 [==============================] - ETA: 0s - loss: 0.3433 - accuracy: 0.8381\n",
            "Epoch 15: val_loss improved from 0.42639 to 0.40515, saving model to ./\n"
          ]
        },
        {
          "output_type": "stream",
          "name": "stderr",
          "text": [
            "WARNING:absl:Found untraced functions such as _jit_compiled_convolution_op, _jit_compiled_convolution_op, _jit_compiled_convolution_op while saving (showing 3 of 3). These functions will not be directly callable after loading.\n"
          ]
        },
        {
          "output_type": "stream",
          "name": "stdout",
          "text": [
            "\b\b\b\b\b\b\b\b\b\b\b\b\b\b\b\b\b\b\b\b\b\b\b\b\b\b\b\b\b\b\b\b\b\b\b\b\b\b\b\b\b\b\b\b\b\b\b\b\b\b\b\b\b\b\b\b\b\b\b\b\b\b\b\b\b\b\b\b\b\b\b\b\b\b\b\b\b\b\b\b\b\b\b\b\r194/194 [==============================] - 35s 180ms/step - loss: 0.3433 - accuracy: 0.8381 - val_loss: 0.4051 - val_accuracy: 0.8085\n",
            "Epoch 16/100\n",
            "194/194 [==============================] - ETA: 0s - loss: 0.3205 - accuracy: 0.8498\n",
            "Epoch 16: val_loss improved from 0.40515 to 0.39328, saving model to ./\n"
          ]
        },
        {
          "output_type": "stream",
          "name": "stderr",
          "text": [
            "WARNING:absl:Found untraced functions such as _jit_compiled_convolution_op, _jit_compiled_convolution_op, _jit_compiled_convolution_op while saving (showing 3 of 3). These functions will not be directly callable after loading.\n"
          ]
        },
        {
          "output_type": "stream",
          "name": "stdout",
          "text": [
            "\b\b\b\b\b\b\b\b\b\b\b\b\b\b\b\b\b\b\b\b\b\b\b\b\b\b\b\b\b\b\b\b\b\b\b\b\b\b\b\b\b\b\b\b\b\b\b\b\b\b\b\b\b\b\b\b\b\b\b\b\b\b\b\b\b\b\b\b\b\b\b\b\b\b\b\b\b\b\b\b\b\b\b\b\r194/194 [==============================] - 35s 182ms/step - loss: 0.3205 - accuracy: 0.8498 - val_loss: 0.3933 - val_accuracy: 0.8250\n",
            "Epoch 17/100\n",
            "194/194 [==============================] - ETA: 0s - loss: 0.3015 - accuracy: 0.8616\n",
            "Epoch 17: val_loss improved from 0.39328 to 0.37766, saving model to ./\n"
          ]
        },
        {
          "output_type": "stream",
          "name": "stderr",
          "text": [
            "WARNING:absl:Found untraced functions such as _jit_compiled_convolution_op, _jit_compiled_convolution_op, _jit_compiled_convolution_op while saving (showing 3 of 3). These functions will not be directly callable after loading.\n"
          ]
        },
        {
          "output_type": "stream",
          "name": "stdout",
          "text": [
            "\b\b\b\b\b\b\b\b\b\b\b\b\b\b\b\b\b\b\b\b\b\b\b\b\b\b\b\b\b\b\b\b\b\b\b\b\b\b\b\b\b\b\b\b\b\b\b\b\b\b\b\b\b\b\b\b\b\b\b\b\b\b\b\b\b\b\b\b\b\b\b\b\b\b\b\b\b\b\b\b\b\b\b\b\r194/194 [==============================] - 35s 180ms/step - loss: 0.3015 - accuracy: 0.8616 - val_loss: 0.3777 - val_accuracy: 0.8302\n",
            "Epoch 18/100\n",
            "194/194 [==============================] - ETA: 0s - loss: 0.2823 - accuracy: 0.8716\n",
            "Epoch 18: val_loss improved from 0.37766 to 0.37177, saving model to ./\n"
          ]
        },
        {
          "output_type": "stream",
          "name": "stderr",
          "text": [
            "WARNING:absl:Found untraced functions such as _jit_compiled_convolution_op, _jit_compiled_convolution_op, _jit_compiled_convolution_op while saving (showing 3 of 3). These functions will not be directly callable after loading.\n"
          ]
        },
        {
          "output_type": "stream",
          "name": "stdout",
          "text": [
            "\b\b\b\b\b\b\b\b\b\b\b\b\b\b\b\b\b\b\b\b\b\b\b\b\b\b\b\b\b\b\b\b\b\b\b\b\b\b\b\b\b\b\b\b\b\b\b\b\b\b\b\b\b\b\b\b\b\b\b\b\b\b\b\b\b\b\b\b\b\b\b\b\b\b\b\b\b\b\b\b\b\b\b\b\r194/194 [==============================] - 34s 177ms/step - loss: 0.2823 - accuracy: 0.8716 - val_loss: 0.3718 - val_accuracy: 0.8379\n",
            "Epoch 19/100\n",
            "194/194 [==============================] - ETA: 0s - loss: 0.2698 - accuracy: 0.8783\n",
            "Epoch 19: val_loss improved from 0.37177 to 0.34982, saving model to ./\n"
          ]
        },
        {
          "output_type": "stream",
          "name": "stderr",
          "text": [
            "WARNING:absl:Found untraced functions such as _jit_compiled_convolution_op, _jit_compiled_convolution_op, _jit_compiled_convolution_op while saving (showing 3 of 3). These functions will not be directly callable after loading.\n"
          ]
        },
        {
          "output_type": "stream",
          "name": "stdout",
          "text": [
            "\b\b\b\b\b\b\b\b\b\b\b\b\b\b\b\b\b\b\b\b\b\b\b\b\b\b\b\b\b\b\b\b\b\b\b\b\b\b\b\b\b\b\b\b\b\b\b\b\b\b\b\b\b\b\b\b\b\b\b\b\b\b\b\b\b\b\b\b\b\b\b\b\b\b\b\b\b\b\b\b\b\b\b\b\r194/194 [==============================] - 34s 176ms/step - loss: 0.2698 - accuracy: 0.8783 - val_loss: 0.3498 - val_accuracy: 0.8448\n",
            "Epoch 20/100\n",
            "194/194 [==============================] - ETA: 0s - loss: 0.2530 - accuracy: 0.8882\n",
            "Epoch 20: val_loss improved from 0.34982 to 0.34571, saving model to ./\n"
          ]
        },
        {
          "output_type": "stream",
          "name": "stderr",
          "text": [
            "WARNING:absl:Found untraced functions such as _jit_compiled_convolution_op, _jit_compiled_convolution_op, _jit_compiled_convolution_op while saving (showing 3 of 3). These functions will not be directly callable after loading.\n"
          ]
        },
        {
          "output_type": "stream",
          "name": "stdout",
          "text": [
            "\b\b\b\b\b\b\b\b\b\b\b\b\b\b\b\b\b\b\b\b\b\b\b\b\b\b\b\b\b\b\b\b\b\b\b\b\b\b\b\b\b\b\b\b\b\b\b\b\b\b\b\b\b\b\b\b\b\b\b\b\b\b\b\b\b\b\b\b\b\b\b\b\b\b\b\b\b\b\b\b\b\b\b\b\r194/194 [==============================] - 34s 175ms/step - loss: 0.2530 - accuracy: 0.8882 - val_loss: 0.3457 - val_accuracy: 0.8515\n",
            "Epoch 21/100\n",
            "194/194 [==============================] - ETA: 0s - loss: 0.2416 - accuracy: 0.8930\n",
            "Epoch 21: val_loss improved from 0.34571 to 0.33676, saving model to ./\n"
          ]
        },
        {
          "output_type": "stream",
          "name": "stderr",
          "text": [
            "WARNING:absl:Found untraced functions such as _jit_compiled_convolution_op, _jit_compiled_convolution_op, _jit_compiled_convolution_op while saving (showing 3 of 3). These functions will not be directly callable after loading.\n"
          ]
        },
        {
          "output_type": "stream",
          "name": "stdout",
          "text": [
            "\b\b\b\b\b\b\b\b\b\b\b\b\b\b\b\b\b\b\b\b\b\b\b\b\b\b\b\b\b\b\b\b\b\b\b\b\b\b\b\b\b\b\b\b\b\b\b\b\b\b\b\b\b\b\b\b\b\b\b\b\b\b\b\b\b\b\b\b\b\b\b\b\b\b\b\b\b\b\b\b\b\b\b\b\r194/194 [==============================] - 35s 181ms/step - loss: 0.2416 - accuracy: 0.8930 - val_loss: 0.3368 - val_accuracy: 0.8524\n",
            "Epoch 22/100\n",
            "194/194 [==============================] - ETA: 0s - loss: 0.2290 - accuracy: 0.9014\n",
            "Epoch 22: val_loss improved from 0.33676 to 0.33128, saving model to ./\n"
          ]
        },
        {
          "output_type": "stream",
          "name": "stderr",
          "text": [
            "WARNING:absl:Found untraced functions such as _jit_compiled_convolution_op, _jit_compiled_convolution_op, _jit_compiled_convolution_op while saving (showing 3 of 3). These functions will not be directly callable after loading.\n"
          ]
        },
        {
          "output_type": "stream",
          "name": "stdout",
          "text": [
            "\b\b\b\b\b\b\b\b\b\b\b\b\b\b\b\b\b\b\b\b\b\b\b\b\b\b\b\b\b\b\b\b\b\b\b\b\b\b\b\b\b\b\b\b\b\b\b\b\b\b\b\b\b\b\b\b\b\b\b\b\b\b\b\b\b\b\b\b\b\b\b\b\b\b\b\b\b\b\b\b\b\b\b\b\r194/194 [==============================] - 35s 180ms/step - loss: 0.2290 - accuracy: 0.9014 - val_loss: 0.3313 - val_accuracy: 0.8621\n",
            "Epoch 23/100\n",
            "194/194 [==============================] - ETA: 0s - loss: 0.2209 - accuracy: 0.9035\n",
            "Epoch 23: val_loss did not improve from 0.33128\n",
            "194/194 [==============================] - 33s 169ms/step - loss: 0.2209 - accuracy: 0.9035 - val_loss: 0.3357 - val_accuracy: 0.8598\n",
            "Epoch 24/100\n",
            "194/194 [==============================] - ETA: 0s - loss: 0.2079 - accuracy: 0.9108\n",
            "Epoch 24: val_loss improved from 0.33128 to 0.33086, saving model to ./\n"
          ]
        },
        {
          "output_type": "stream",
          "name": "stderr",
          "text": [
            "WARNING:absl:Found untraced functions such as _jit_compiled_convolution_op, _jit_compiled_convolution_op, _jit_compiled_convolution_op while saving (showing 3 of 3). These functions will not be directly callable after loading.\n"
          ]
        },
        {
          "output_type": "stream",
          "name": "stdout",
          "text": [
            "\b\b\b\b\b\b\b\b\b\b\b\b\b\b\b\b\b\b\b\b\b\b\b\b\b\b\b\b\b\b\b\b\b\b\b\b\b\b\b\b\b\b\b\b\b\b\b\b\b\b\b\b\b\b\b\b\b\b\b\b\b\b\b\b\b\b\b\b\b\b\b\b\b\b\b\b\b\b\b\b\b\b\b\b\r194/194 [==============================] - 34s 176ms/step - loss: 0.2079 - accuracy: 0.9108 - val_loss: 0.3309 - val_accuracy: 0.8671\n",
            "Epoch 25/100\n",
            "194/194 [==============================] - ETA: 0s - loss: 0.2063 - accuracy: 0.9112\n",
            "Epoch 25: val_loss improved from 0.33086 to 0.30107, saving model to ./\n"
          ]
        },
        {
          "output_type": "stream",
          "name": "stderr",
          "text": [
            "WARNING:absl:Found untraced functions such as _jit_compiled_convolution_op, _jit_compiled_convolution_op, _jit_compiled_convolution_op while saving (showing 3 of 3). These functions will not be directly callable after loading.\n"
          ]
        },
        {
          "output_type": "stream",
          "name": "stdout",
          "text": [
            "\b\b\b\b\b\b\b\b\b\b\b\b\b\b\b\b\b\b\b\b\b\b\b\b\b\b\b\b\b\b\b\b\b\b\b\b\b\b\b\b\b\b\b\b\b\b\b\b\b\b\b\b\b\b\b\b\b\b\b\b\b\b\b\b\b\b\b\b\b\b\b\b\b\b\b\b\b\b\b\b\b\b\b\b\r194/194 [==============================] - 34s 177ms/step - loss: 0.2063 - accuracy: 0.9112 - val_loss: 0.3011 - val_accuracy: 0.8718\n",
            "Epoch 26/100\n",
            "194/194 [==============================] - ETA: 0s - loss: 0.1920 - accuracy: 0.9175\n",
            "Epoch 26: val_loss did not improve from 0.30107\n",
            "194/194 [==============================] - 33s 168ms/step - loss: 0.1920 - accuracy: 0.9175 - val_loss: 0.3285 - val_accuracy: 0.8752\n",
            "Epoch 27/100\n",
            "194/194 [==============================] - ETA: 0s - loss: 0.1824 - accuracy: 0.9230\n",
            "Epoch 27: val_loss improved from 0.30107 to 0.29456, saving model to ./\n"
          ]
        },
        {
          "output_type": "stream",
          "name": "stderr",
          "text": [
            "WARNING:absl:Found untraced functions such as _jit_compiled_convolution_op, _jit_compiled_convolution_op, _jit_compiled_convolution_op while saving (showing 3 of 3). These functions will not be directly callable after loading.\n"
          ]
        },
        {
          "output_type": "stream",
          "name": "stdout",
          "text": [
            "\b\b\b\b\b\b\b\b\b\b\b\b\b\b\b\b\b\b\b\b\b\b\b\b\b\b\b\b\b\b\b\b\b\b\b\b\b\b\b\b\b\b\b\b\b\b\b\b\b\b\b\b\b\b\b\b\b\b\b\b\b\b\b\b\b\b\b\b\b\b\b\b\b\b\b\b\b\b\b\b\b\b\b\b\r194/194 [==============================] - 34s 175ms/step - loss: 0.1824 - accuracy: 0.9230 - val_loss: 0.2946 - val_accuracy: 0.8898\n",
            "Epoch 28/100\n",
            "194/194 [==============================] - ETA: 0s - loss: 0.1775 - accuracy: 0.9250\n",
            "Epoch 28: val_loss did not improve from 0.29456\n",
            "194/194 [==============================] - 34s 174ms/step - loss: 0.1775 - accuracy: 0.9250 - val_loss: 0.3058 - val_accuracy: 0.8798\n",
            "Epoch 29/100\n",
            "194/194 [==============================] - ETA: 0s - loss: 0.1696 - accuracy: 0.9304\n",
            "Epoch 29: val_loss improved from 0.29456 to 0.26929, saving model to ./\n"
          ]
        },
        {
          "output_type": "stream",
          "name": "stderr",
          "text": [
            "WARNING:absl:Found untraced functions such as _jit_compiled_convolution_op, _jit_compiled_convolution_op, _jit_compiled_convolution_op while saving (showing 3 of 3). These functions will not be directly callable after loading.\n"
          ]
        },
        {
          "output_type": "stream",
          "name": "stdout",
          "text": [
            "\b\b\b\b\b\b\b\b\b\b\b\b\b\b\b\b\b\b\b\b\b\b\b\b\b\b\b\b\b\b\b\b\b\b\b\b\b\b\b\b\b\b\b\b\b\b\b\b\b\b\b\b\b\b\b\b\b\b\b\b\b\b\b\b\b\b\b\b\b\b\b\b\b\b\b\b\b\b\b\b\b\b\b\b\r194/194 [==============================] - 34s 174ms/step - loss: 0.1696 - accuracy: 0.9304 - val_loss: 0.2693 - val_accuracy: 0.8921\n",
            "Epoch 30/100\n",
            "194/194 [==============================] - ETA: 0s - loss: 0.1573 - accuracy: 0.9339\n",
            "Epoch 30: val_loss improved from 0.26929 to 0.26824, saving model to ./\n"
          ]
        },
        {
          "output_type": "stream",
          "name": "stderr",
          "text": [
            "WARNING:absl:Found untraced functions such as _jit_compiled_convolution_op, _jit_compiled_convolution_op, _jit_compiled_convolution_op while saving (showing 3 of 3). These functions will not be directly callable after loading.\n"
          ]
        },
        {
          "output_type": "stream",
          "name": "stdout",
          "text": [
            "\b\b\b\b\b\b\b\b\b\b\b\b\b\b\b\b\b\b\b\b\b\b\b\b\b\b\b\b\b\b\b\b\b\b\b\b\b\b\b\b\b\b\b\b\b\b\b\b\b\b\b\b\b\b\b\b\b\b\b\b\b\b\b\b\b\b\b\b\b\b\b\b\b\b\b\b\b\b\b\b\b\b\b\b\r194/194 [==============================] - 35s 180ms/step - loss: 0.1573 - accuracy: 0.9339 - val_loss: 0.2682 - val_accuracy: 0.8990\n",
            "Epoch 31/100\n",
            "194/194 [==============================] - ETA: 0s - loss: 0.1556 - accuracy: 0.9365\n",
            "Epoch 31: val_loss did not improve from 0.26824\n",
            "194/194 [==============================] - 34s 173ms/step - loss: 0.1556 - accuracy: 0.9365 - val_loss: 0.2875 - val_accuracy: 0.8931\n",
            "Epoch 32/100\n",
            "194/194 [==============================] - ETA: 0s - loss: 0.1518 - accuracy: 0.9395\n",
            "Epoch 32: val_loss improved from 0.26824 to 0.25355, saving model to ./\n"
          ]
        },
        {
          "output_type": "stream",
          "name": "stderr",
          "text": [
            "WARNING:absl:Found untraced functions such as _jit_compiled_convolution_op, _jit_compiled_convolution_op, _jit_compiled_convolution_op while saving (showing 3 of 3). These functions will not be directly callable after loading.\n"
          ]
        },
        {
          "output_type": "stream",
          "name": "stdout",
          "text": [
            "\b\b\b\b\b\b\b\b\b\b\b\b\b\b\b\b\b\b\b\b\b\b\b\b\b\b\b\b\b\b\b\b\b\b\b\b\b\b\b\b\b\b\b\b\b\b\b\b\b\b\b\b\b\b\b\b\b\b\b\b\b\b\b\b\b\b\b\b\b\b\b\b\b\b\b\b\b\b\b\b\b\b\b\b\r194/194 [==============================] - 36s 184ms/step - loss: 0.1518 - accuracy: 0.9395 - val_loss: 0.2535 - val_accuracy: 0.9037\n",
            "Epoch 33/100\n",
            "194/194 [==============================] - ETA: 0s - loss: 0.1455 - accuracy: 0.9427\n",
            "Epoch 33: val_loss did not improve from 0.25355\n",
            "194/194 [==============================] - 33s 168ms/step - loss: 0.1455 - accuracy: 0.9427 - val_loss: 0.2571 - val_accuracy: 0.9024\n",
            "Epoch 34/100\n",
            "194/194 [==============================] - ETA: 0s - loss: 0.1413 - accuracy: 0.9437\n",
            "Epoch 34: val_loss did not improve from 0.25355\n",
            "194/194 [==============================] - 34s 174ms/step - loss: 0.1413 - accuracy: 0.9437 - val_loss: 0.2782 - val_accuracy: 0.9056\n",
            "Epoch 35/100\n",
            "194/194 [==============================] - ETA: 0s - loss: 0.1424 - accuracy: 0.9463\n",
            "Epoch 35: val_loss did not improve from 0.25355\n",
            "194/194 [==============================] - 33s 168ms/step - loss: 0.1424 - accuracy: 0.9463 - val_loss: 0.2872 - val_accuracy: 0.9045\n",
            "Epoch 36/100\n",
            "194/194 [==============================] - ETA: 0s - loss: 0.1389 - accuracy: 0.9450\n",
            "Epoch 36: val_loss did not improve from 0.25355\n",
            "194/194 [==============================] - 33s 169ms/step - loss: 0.1389 - accuracy: 0.9450 - val_loss: 0.2582 - val_accuracy: 0.9053\n",
            "Epoch 37/100\n",
            "194/194 [==============================] - ETA: 0s - loss: 0.1242 - accuracy: 0.9515\n",
            "Epoch 37: val_loss improved from 0.25355 to 0.23824, saving model to ./\n"
          ]
        },
        {
          "output_type": "stream",
          "name": "stderr",
          "text": [
            "WARNING:absl:Found untraced functions such as _jit_compiled_convolution_op, _jit_compiled_convolution_op, _jit_compiled_convolution_op while saving (showing 3 of 3). These functions will not be directly callable after loading.\n"
          ]
        },
        {
          "output_type": "stream",
          "name": "stdout",
          "text": [
            "\b\b\b\b\b\b\b\b\b\b\b\b\b\b\b\b\b\b\b\b\b\b\b\b\b\b\b\b\b\b\b\b\b\b\b\b\b\b\b\b\b\b\b\b\b\b\b\b\b\b\b\b\b\b\b\b\b\b\b\b\b\b\b\b\b\b\b\b\b\b\b\b\b\b\b\b\b\b\b\b\b\b\b\b\r194/194 [==============================] - 34s 177ms/step - loss: 0.1242 - accuracy: 0.9515 - val_loss: 0.2382 - val_accuracy: 0.9140\n",
            "Epoch 38/100\n",
            "194/194 [==============================] - ETA: 0s - loss: 0.1248 - accuracy: 0.9506\n",
            "Epoch 38: val_loss did not improve from 0.23824\n",
            "194/194 [==============================] - 34s 173ms/step - loss: 0.1248 - accuracy: 0.9506 - val_loss: 0.2547 - val_accuracy: 0.9108\n",
            "Epoch 39/100\n",
            "194/194 [==============================] - ETA: 0s - loss: 0.1263 - accuracy: 0.9522\n",
            "Epoch 39: val_loss improved from 0.23824 to 0.22787, saving model to ./\n"
          ]
        },
        {
          "output_type": "stream",
          "name": "stderr",
          "text": [
            "WARNING:absl:Found untraced functions such as _jit_compiled_convolution_op, _jit_compiled_convolution_op, _jit_compiled_convolution_op while saving (showing 3 of 3). These functions will not be directly callable after loading.\n"
          ]
        },
        {
          "output_type": "stream",
          "name": "stdout",
          "text": [
            "\b\b\b\b\b\b\b\b\b\b\b\b\b\b\b\b\b\b\b\b\b\b\b\b\b\b\b\b\b\b\b\b\b\b\b\b\b\b\b\b\b\b\b\b\b\b\b\b\b\b\b\b\b\b\b\b\b\b\b\b\b\b\b\b\b\b\b\b\b\b\b\b\b\b\b\b\b\b\b\b\b\b\b\b\r194/194 [==============================] - 35s 182ms/step - loss: 0.1263 - accuracy: 0.9522 - val_loss: 0.2279 - val_accuracy: 0.9176\n",
            "Epoch 40/100\n",
            "194/194 [==============================] - ETA: 0s - loss: 0.1178 - accuracy: 0.9537\n",
            "Epoch 40: val_loss did not improve from 0.22787\n",
            "194/194 [==============================] - 33s 169ms/step - loss: 0.1178 - accuracy: 0.9537 - val_loss: 0.2528 - val_accuracy: 0.9127\n",
            "Epoch 41/100\n",
            "194/194 [==============================] - ETA: 0s - loss: 0.1179 - accuracy: 0.9556\n",
            "Epoch 41: val_loss did not improve from 0.22787\n",
            "194/194 [==============================] - 34s 173ms/step - loss: 0.1179 - accuracy: 0.9556 - val_loss: 0.2531 - val_accuracy: 0.9185\n",
            "Epoch 42/100\n",
            "194/194 [==============================] - ETA: 0s - loss: 0.1139 - accuracy: 0.9551\n",
            "Epoch 42: val_loss did not improve from 0.22787\n",
            "194/194 [==============================] - 34s 174ms/step - loss: 0.1139 - accuracy: 0.9551 - val_loss: 0.2345 - val_accuracy: 0.9194\n",
            "Epoch 43/100\n",
            "194/194 [==============================] - ETA: 0s - loss: 0.1067 - accuracy: 0.9591\n",
            "Epoch 43: val_loss improved from 0.22787 to 0.22048, saving model to ./\n"
          ]
        },
        {
          "output_type": "stream",
          "name": "stderr",
          "text": [
            "WARNING:absl:Found untraced functions such as _jit_compiled_convolution_op, _jit_compiled_convolution_op, _jit_compiled_convolution_op while saving (showing 3 of 3). These functions will not be directly callable after loading.\n"
          ]
        },
        {
          "output_type": "stream",
          "name": "stdout",
          "text": [
            "\b\b\b\b\b\b\b\b\b\b\b\b\b\b\b\b\b\b\b\b\b\b\b\b\b\b\b\b\b\b\b\b\b\b\b\b\b\b\b\b\b\b\b\b\b\b\b\b\b\b\b\b\b\b\b\b\b\b\b\b\b\b\b\b\b\b\b\b\b\b\b\b\b\b\b\b\b\b\b\b\b\b\b\b\r194/194 [==============================] - 34s 174ms/step - loss: 0.1067 - accuracy: 0.9591 - val_loss: 0.2205 - val_accuracy: 0.9250\n",
            "Epoch 44/100\n",
            "194/194 [==============================] - ETA: 0s - loss: 0.1081 - accuracy: 0.9595\n",
            "Epoch 44: val_loss improved from 0.22048 to 0.21042, saving model to ./\n"
          ]
        },
        {
          "output_type": "stream",
          "name": "stderr",
          "text": [
            "WARNING:absl:Found untraced functions such as _jit_compiled_convolution_op, _jit_compiled_convolution_op, _jit_compiled_convolution_op while saving (showing 3 of 3). These functions will not be directly callable after loading.\n"
          ]
        },
        {
          "output_type": "stream",
          "name": "stdout",
          "text": [
            "\b\b\b\b\b\b\b\b\b\b\b\b\b\b\b\b\b\b\b\b\b\b\b\b\b\b\b\b\b\b\b\b\b\b\b\b\b\b\b\b\b\b\b\b\b\b\b\b\b\b\b\b\b\b\b\b\b\b\b\b\b\b\b\b\b\b\b\b\b\b\b\b\b\b\b\b\b\b\b\b\b\b\b\b\r194/194 [==============================] - 34s 177ms/step - loss: 0.1081 - accuracy: 0.9595 - val_loss: 0.2104 - val_accuracy: 0.9256\n",
            "Epoch 45/100\n",
            "194/194 [==============================] - ETA: 0s - loss: 0.1127 - accuracy: 0.9583\n",
            "Epoch 45: val_loss improved from 0.21042 to 0.20668, saving model to ./\n"
          ]
        },
        {
          "output_type": "stream",
          "name": "stderr",
          "text": [
            "WARNING:absl:Found untraced functions such as _jit_compiled_convolution_op, _jit_compiled_convolution_op, _jit_compiled_convolution_op while saving (showing 3 of 3). These functions will not be directly callable after loading.\n"
          ]
        },
        {
          "output_type": "stream",
          "name": "stdout",
          "text": [
            "\b\b\b\b\b\b\b\b\b\b\b\b\b\b\b\b\b\b\b\b\b\b\b\b\b\b\b\b\b\b\b\b\b\b\b\b\b\b\b\b\b\b\b\b\b\b\b\b\b\b\b\b\b\b\b\b\b\b\b\b\b\b\b\b\b\b\b\b\b\b\b\b\b\b\b\b\b\b\b\b\b\b\b\b\r194/194 [==============================] - 35s 181ms/step - loss: 0.1127 - accuracy: 0.9583 - val_loss: 0.2067 - val_accuracy: 0.9258\n",
            "Epoch 46/100\n",
            "194/194 [==============================] - ETA: 0s - loss: 0.1133 - accuracy: 0.9576\n",
            "Epoch 46: val_loss did not improve from 0.20668\n",
            "194/194 [==============================] - 34s 173ms/step - loss: 0.1133 - accuracy: 0.9576 - val_loss: 0.2313 - val_accuracy: 0.9194\n",
            "Epoch 47/100\n",
            "194/194 [==============================] - ETA: 0s - loss: 0.1055 - accuracy: 0.9612\n",
            "Epoch 47: val_loss did not improve from 0.20668\n",
            "194/194 [==============================] - 34s 174ms/step - loss: 0.1055 - accuracy: 0.9612 - val_loss: 0.2245 - val_accuracy: 0.9269\n",
            "Epoch 48/100\n",
            "194/194 [==============================] - ETA: 0s - loss: 0.1024 - accuracy: 0.9598\n",
            "Epoch 48: val_loss did not improve from 0.20668\n",
            "194/194 [==============================] - 34s 174ms/step - loss: 0.1024 - accuracy: 0.9598 - val_loss: 0.2468 - val_accuracy: 0.9235\n",
            "Epoch 49/100\n",
            "194/194 [==============================] - ETA: 0s - loss: 0.0970 - accuracy: 0.9640\n",
            "Epoch 49: val_loss did not improve from 0.20668\n",
            "194/194 [==============================] - 34s 174ms/step - loss: 0.0970 - accuracy: 0.9640 - val_loss: 0.2156 - val_accuracy: 0.9268\n",
            "Epoch 50/100\n",
            "194/194 [==============================] - ETA: 0s - loss: 0.1005 - accuracy: 0.9623Restoring model weights from the end of the best epoch: 45.\n",
            "\n",
            "Epoch 50: val_loss did not improve from 0.20668\n",
            "194/194 [==============================] - 34s 174ms/step - loss: 0.1005 - accuracy: 0.9623 - val_loss: 0.2143 - val_accuracy: 0.9347\n",
            "Epoch 50: early stopping\n"
          ]
        }
      ],
      "source": [
        "train = True\n",
        "if train:\n",
        "    epochs=100\n",
        "    history = model.fit(x_train,\n",
        "                 y_train,\n",
        "                 validation_split=0.2,\n",
        "                 epochs=epochs,\n",
        "                 batch_size=128,\n",
        "                 callbacks=[early_stop, model_check_point])\n",
        "else:\n",
        "    model = tf.keras.models.load_model('/content/drive/MyDrive/archive/')"
      ]
    },
    {
      "cell_type": "code",
      "execution_count": 24,
      "id": "e39235c9",
      "metadata": {
        "_cell_guid": "750497b7-2527-4c6d-9cbc-66579aa468a5",
        "_uuid": "56e79ea8-9cf1-40e6-b2ba-19b243c76774",
        "execution": {
          "iopub.execute_input": "2022-02-10T13:15:12.499693Z",
          "iopub.status.busy": "2022-02-10T13:15:12.498783Z",
          "iopub.status.idle": "2022-02-10T13:15:12.910035Z",
          "shell.execute_reply": "2022-02-10T13:15:12.910561Z",
          "shell.execute_reply.started": "2021-11-20T15:41:06.412544Z"
        },
        "jupyter": {
          "outputs_hidden": false
        },
        "papermill": {
          "duration": 3.971549,
          "end_time": "2022-02-10T13:15:12.910710",
          "exception": false,
          "start_time": "2022-02-10T13:15:08.939161",
          "status": "completed"
        },
        "tags": [],
        "colab": {
          "base_uri": "https://localhost:8080/",
          "height": 902
        },
        "id": "e39235c9",
        "outputId": "1bbfe0fa-0b43-4de1-c71d-2b16ed05ce83"
      },
      "outputs": [
        {
          "output_type": "stream",
          "name": "stdout",
          "text": [
            "1/1 [==============================] - 0s 199ms/step\n",
            "The results was: True       And the probability being: 0.995002806186676\n",
            "Real value was: True\n",
            "Test id: 1132\n"
          ]
        },
        {
          "output_type": "display_data",
          "data": {
            "text/plain": [
              "<Figure size 1000x1000 with 1 Axes>"
            ],
            "image/png": "[encoded data removed]"
          },
          "metadata": {}
        }
      ],
      "source": [
        "from random import randint\n",
        "test_num = randint(0,len(x_test))\n",
        "#test_num = 6948\n",
        "result = model.predict(np.array([x_test[test_num]]))\n",
        "\n",
        "plt.figure(figsize= (10,10))\n",
        "plt.imshow(x_test[test_num])\n",
        "\n",
        "print(f\"The results was: {result[0][0]>= 0.5}       And the probability being: {result[0][0]}\\nReal value was: {y_test[test_num]>=0.5}\")\n",
        "print(f\"Test id: {test_num}\")"
      ]
    },
    {
      "cell_type": "code",
      "execution_count": 25,
      "id": "a1e2a367",
      "metadata": {
        "_cell_guid": "872abb20-a330-4bbf-b59f-5ba8580716ab",
        "_uuid": "0d10757c-5c0e-4f63-9ca9-1afeece14717",
        "execution": {
          "iopub.execute_input": "2022-02-10T13:15:19.349133Z",
          "iopub.status.busy": "2022-02-10T13:15:19.348280Z",
          "iopub.status.idle": "2022-02-10T13:15:19.351079Z",
          "shell.execute_reply": "2022-02-10T13:15:19.351513Z",
          "shell.execute_reply.started": "2021-11-20T15:42:01.097964Z"
        },
        "jupyter": {
          "outputs_hidden": false
        },
        "papermill": {
          "duration": 3.094274,
          "end_time": "2022-02-10T13:15:19.351655",
          "exception": false,
          "start_time": "2022-02-10T13:15:16.257381",
          "status": "completed"
        },
        "tags": [],
        "colab": {
          "base_uri": "https://localhost:8080/"
        },
        "id": "a1e2a367",
        "outputId": "12884487-0280-40d3-a521-88ff0bd42ee0"
      },
      "outputs": [
        {
          "output_type": "execute_result",
          "data": {
            "text/plain": [
              "dict_keys(['loss', 'accuracy', 'val_loss', 'val_accuracy'])"
            ]
          },
          "metadata": {},
          "execution_count": 25
        }
      ],
      "source": [
        "history.history.keys()"
      ]
    },
    {
      "cell_type": "code",
      "execution_count": 26,
      "id": "e168c50b",
      "metadata": {
        "_cell_guid": "33260f32-779c-4554-a372-c3a73b424cb7",
        "_uuid": "2ac93c3d-8ecf-4335-8bb3-d0e467118e79",
        "execution": {
          "iopub.execute_input": "2022-02-10T13:15:25.991833Z",
          "iopub.status.busy": "2022-02-10T13:15:25.983829Z",
          "iopub.status.idle": "2022-02-10T13:15:26.180604Z",
          "shell.execute_reply": "2022-02-10T13:15:26.180102Z",
          "shell.execute_reply.started": "2021-11-20T15:42:01.109101Z"
        },
        "jupyter": {
          "outputs_hidden": false
        },
        "papermill": {
          "duration": 3.616713,
          "end_time": "2022-02-10T13:15:26.180734",
          "exception": false,
          "start_time": "2022-02-10T13:15:22.564021",
          "status": "completed"
        },
        "tags": [],
        "colab": {
          "base_uri": "https://localhost:8080/",
          "height": 487
        },
        "id": "e168c50b",
        "outputId": "ce502422-080a-470b-dd04-51639c75a7e2"
      },
      "outputs": [
        {
          "output_type": "display_data",
          "data": {
            "text/plain": [
              "<Figure size 1000x500 with 1 Axes>"
            ],
            "image/png": "[encoded data removed]"
          },
          "metadata": {}
        }
      ],
      "source": [
        "plt.figure(figsize=(10,5))\n",
        "plt.plot(range(len(history.history['accuracy'])),history.history['accuracy'], label= \"accuracy\")\n",
        "plt.plot(range(0,len(history.history['val_accuracy'])),history.history['val_accuracy'], label= \"val_accuracy\")\n",
        "plt.grid()\n",
        "plt.xlabel(\"Epoch\")\n",
        "plt.ylabel(\"Accuracy\")\n",
        "plt.title(\"Accuracy vs Epoch\")\n",
        "plt.legend()\n",
        "plt.show()"
      ]
    },
    {
      "cell_type": "code",
      "execution_count": 27,
      "id": "d373325a",
      "metadata": {
        "_cell_guid": "1c32f434-e1df-45e6-9081-1073973ca800",
        "_uuid": "4c7d38bc-aa4c-4eff-8243-4064e0ff2fff",
        "execution": {
          "iopub.execute_input": "2022-02-10T13:15:32.440653Z",
          "iopub.status.busy": "2022-02-10T13:15:32.439769Z",
          "iopub.status.idle": "2022-02-10T13:15:32.633820Z",
          "shell.execute_reply": "2022-02-10T13:15:32.633092Z",
          "shell.execute_reply.started": "2021-11-20T15:42:01.373112Z"
        },
        "jupyter": {
          "outputs_hidden": false
        },
        "papermill": {
          "duration": 3.302713,
          "end_time": "2022-02-10T13:15:32.633957",
          "exception": false,
          "start_time": "2022-02-10T13:15:29.331244",
          "status": "completed"
        },
        "tags": [],
        "colab": {
          "base_uri": "https://localhost:8080/",
          "height": 487
        },
        "id": "d373325a",
        "outputId": "eee0c947-2d9c-418f-f870-16ca6e85219d"
      },
      "outputs": [
        {
          "output_type": "display_data",
          "data": {
            "text/plain": [
              "<Figure size 1000x500 with 1 Axes>"
            ],
            "image/png": "[encoded data removed]"
          },
          "metadata": {}
        }
      ],
      "source": [
        "plt.figure(figsize=(10,5))\n",
        "plt.plot(range(0,len(history.history['loss'])),history.history['loss'], label= \"loss\")\n",
        "plt.plot(range(0,len(history.history['val_loss'])),history.history['val_loss'], label= \"val_loss\")\n",
        "plt.grid()\n",
        "plt.xlabel(\"Epoch\")\n",
        "plt.ylabel(\"Loss\")\n",
        "plt.title(\"Loss vs Epoch\")\n",
        "plt.legend()\n",
        "plt.show()"
      ]
    },
    {
      "cell_type": "code",
      "execution_count": 28,
      "id": "ab6c4bf5",
      "metadata": {
        "_cell_guid": "ac5358d4-461f-49aa-9f3a-b7b3d6904b18",
        "_uuid": "51baa092-98c9-4ad9-81db-1f4a05406ac2",
        "execution": {
          "iopub.execute_input": "2022-02-10T13:15:39.181708Z",
          "iopub.status.busy": "2022-02-10T13:15:39.180481Z",
          "iopub.status.idle": "2022-02-10T13:15:41.263800Z",
          "shell.execute_reply": "2022-02-10T13:15:41.263268Z",
          "shell.execute_reply.started": "2021-11-20T15:42:01.661773Z"
        },
        "jupyter": {
          "outputs_hidden": false
        },
        "papermill": {
          "duration": 5.31639,
          "end_time": "2022-02-10T13:15:41.263932",
          "exception": false,
          "start_time": "2022-02-10T13:15:35.947542",
          "status": "completed"
        },
        "tags": [],
        "colab": {
          "base_uri": "https://localhost:8080/"
        },
        "id": "ab6c4bf5",
        "outputId": "d6906451-62fd-4eb1-cd83-03bec4a45569"
      },
      "outputs": [
        {
          "output_type": "stream",
          "name": "stdout",
          "text": [
            "416/416 - 5s - loss: 0.2016 - accuracy: 0.9298 - 5s/epoch - 13ms/step\n",
            "\n",
            "Test accuracy: 0.9298403859138489\n"
          ]
        }
      ],
      "source": [
        "test_loss, test_acc = model.evaluate(x_test,  y_test, verbose=2)\n",
        "\n",
        "print('\\nTest accuracy:', test_acc)"
      ]
    },
    {
      "cell_type": "code",
      "execution_count": 29,
      "id": "dcfc55e8",
      "metadata": {
        "_cell_guid": "9640e8e1-eb7f-4eeb-b2f9-5bc01a726723",
        "_uuid": "6ac59e41-6e93-467e-9161-140dcc9668c2",
        "execution": {
          "iopub.execute_input": "2022-02-10T13:15:48.413351Z",
          "iopub.status.busy": "2022-02-10T13:15:48.412738Z",
          "iopub.status.idle": "2022-02-10T13:15:48.415474Z",
          "shell.execute_reply": "2022-02-10T13:15:48.416038Z",
          "shell.execute_reply.started": "2021-11-20T15:42:04.038272Z"
        },
        "jupyter": {
          "outputs_hidden": false
        },
        "papermill": {
          "duration": 3.528767,
          "end_time": "2022-02-10T13:15:48.416227",
          "exception": false,
          "start_time": "2022-02-10T13:15:44.887460",
          "status": "completed"
        },
        "tags": [],
        "colab": {
          "base_uri": "https://localhost:8080/"
        },
        "id": "dcfc55e8",
        "outputId": "34a16943-d4cb-43f1-fa70-ab45a892805a"
      },
      "outputs": [
        {
          "output_type": "execute_result",
          "data": {
            "text/plain": [
              "13284"
            ]
          },
          "metadata": {},
          "execution_count": 29
        }
      ],
      "source": [
        "len(x_test)"
      ]
    },
    {
      "cell_type": "code",
      "execution_count": 30,
      "id": "b972e6ad",
      "metadata": {
        "execution": {
          "iopub.execute_input": "2022-02-10T13:15:54.870249Z",
          "iopub.status.busy": "2022-02-10T13:15:54.869128Z",
          "iopub.status.idle": "2022-02-10T13:15:56.513275Z",
          "shell.execute_reply": "2022-02-10T13:15:56.512421Z",
          "shell.execute_reply.started": "2021-11-20T15:42:04.048601Z"
        },
        "papermill": {
          "duration": 4.812244,
          "end_time": "2022-02-10T13:15:56.513425",
          "exception": false,
          "start_time": "2022-02-10T13:15:51.701181",
          "status": "completed"
        },
        "tags": [],
        "colab": {
          "base_uri": "https://localhost:8080/"
        },
        "id": "b972e6ad",
        "outputId": "21f7966b-13a1-4958-d8f1-d53b91b9b104"
      },
      "outputs": [
        {
          "output_type": "stream",
          "name": "stdout",
          "text": [
            "416/416 [==============================] - 5s 11ms/step\n"
          ]
        }
      ],
      "source": [
        "y_pred=model.predict(x_test)"
      ]
    },
    {
      "cell_type": "code",
      "execution_count": 31,
      "id": "561f8820",
      "metadata": {
        "execution": {
          "iopub.execute_input": "2022-02-10T13:16:02.986309Z",
          "iopub.status.busy": "2022-02-10T13:16:02.985622Z",
          "iopub.status.idle": "2022-02-10T13:16:02.988656Z",
          "shell.execute_reply": "2022-02-10T13:16:02.989092Z",
          "shell.execute_reply.started": "2021-11-20T15:42:05.939827Z"
        },
        "papermill": {
          "duration": 3.067305,
          "end_time": "2022-02-10T13:16:02.989235",
          "exception": false,
          "start_time": "2022-02-10T13:15:59.921930",
          "status": "completed"
        },
        "tags": [],
        "colab": {
          "base_uri": "https://localhost:8080/"
        },
        "id": "561f8820",
        "outputId": "0527e4e4-a270-45e9-e51c-120e56b5957d"
      },
      "outputs": [
        {
          "output_type": "execute_result",
          "data": {
            "text/plain": [
              "(13284, 1)"
            ]
          },
          "metadata": {},
          "execution_count": 31
        }
      ],
      "source": [
        "y_pred.shape"
      ]
    },
    {
      "cell_type": "code",
      "execution_count": 32,
      "id": "b62d8af2",
      "metadata": {
        "execution": {
          "iopub.execute_input": "2022-02-10T13:16:09.532231Z",
          "iopub.status.busy": "2022-02-10T13:16:09.531324Z",
          "iopub.status.idle": "2022-02-10T13:16:09.534114Z",
          "shell.execute_reply": "2022-02-10T13:16:09.534533Z",
          "shell.execute_reply.started": "2021-11-20T15:42:05.95041Z"
        },
        "papermill": {
          "duration": 3.380273,
          "end_time": "2022-02-10T13:16:09.534672",
          "exception": false,
          "start_time": "2022-02-10T13:16:06.154399",
          "status": "completed"
        },
        "tags": [],
        "colab": {
          "base_uri": "https://localhost:8080/"
        },
        "id": "b62d8af2",
        "outputId": "22b39705-a4a8-42ee-dedb-d039dc9b7294"
      },
      "outputs": [
        {
          "output_type": "execute_result",
          "data": {
            "text/plain": [
              "44280"
            ]
          },
          "metadata": {},
          "execution_count": 32
        }
      ],
      "source": [
        "len(last_label)"
      ]
    },
    {
      "cell_type": "code",
      "execution_count": 33,
      "id": "2c78bb5a",
      "metadata": {
        "execution": {
          "iopub.execute_input": "2022-02-10T13:16:16.267123Z",
          "iopub.status.busy": "2022-02-10T13:16:16.266488Z",
          "iopub.status.idle": "2022-02-10T13:16:16.269171Z",
          "shell.execute_reply": "2022-02-10T13:16:16.269594Z",
          "shell.execute_reply.started": "2021-11-20T15:42:05.964689Z"
        },
        "papermill": {
          "duration": 3.559537,
          "end_time": "2022-02-10T13:16:16.269730",
          "exception": false,
          "start_time": "2022-02-10T13:16:12.710193",
          "status": "completed"
        },
        "tags": [],
        "colab": {
          "base_uri": "https://localhost:8080/"
        },
        "id": "2c78bb5a",
        "outputId": "90909bc0-20da-4aca-cd3a-631551af1c7f"
      },
      "outputs": [
        {
          "output_type": "execute_result",
          "data": {
            "text/plain": [
              "array([1, 1, 1, ..., 0, 0, 0])"
            ]
          },
          "metadata": {},
          "execution_count": 33
        }
      ],
      "source": [
        "y_test"
      ]
    },
    {
      "cell_type": "code",
      "execution_count": 34,
      "id": "ee242cc5",
      "metadata": {
        "execution": {
          "iopub.execute_input": "2022-02-10T13:16:22.822623Z",
          "iopub.status.busy": "2022-02-10T13:16:22.821915Z",
          "iopub.status.idle": "2022-02-10T13:16:22.824774Z",
          "shell.execute_reply": "2022-02-10T13:16:22.825234Z",
          "shell.execute_reply.started": "2021-11-20T15:42:05.976907Z"
        },
        "papermill": {
          "duration": 3.409238,
          "end_time": "2022-02-10T13:16:22.825382",
          "exception": false,
          "start_time": "2022-02-10T13:16:19.416144",
          "status": "completed"
        },
        "tags": [],
        "colab": {
          "base_uri": "https://localhost:8080/"
        },
        "id": "ee242cc5",
        "outputId": "0532a5fc-ac45-4c97-aa16-8f032b0d73c2"
      },
      "outputs": [
        {
          "output_type": "execute_result",
          "data": {
            "text/plain": [
              "array([[8.4684861e-01],\n",
              "       [9.4752997e-01],\n",
              "       [9.9999475e-01],\n",
              "       ...,\n",
              "       [3.5912273e-11],\n",
              "       [1.0633411e-01],\n",
              "       [2.0198175e-03]], dtype=float32)"
            ]
          },
          "metadata": {},
          "execution_count": 34
        }
      ],
      "source": [
        "y_pred"
      ]
    },
    {
      "cell_type": "code",
      "execution_count": 35,
      "id": "8ad25dd2",
      "metadata": {
        "execution": {
          "iopub.execute_input": "2022-02-10T13:16:29.085921Z",
          "iopub.status.busy": "2022-02-10T13:16:29.085314Z",
          "iopub.status.idle": "2022-02-10T13:16:29.291997Z",
          "shell.execute_reply": "2022-02-10T13:16:29.291193Z",
          "shell.execute_reply.started": "2021-11-20T15:42:05.989313Z"
        },
        "papermill": {
          "duration": 3.373936,
          "end_time": "2022-02-10T13:16:29.292130",
          "exception": false,
          "start_time": "2022-02-10T13:16:25.918194",
          "status": "completed"
        },
        "tags": [],
        "colab": {
          "base_uri": "https://localhost:8080/",
          "height": 472
        },
        "id": "8ad25dd2",
        "outputId": "7a11a2f4-284e-4254-e015-f63be175fd57"
      },
      "outputs": [
        {
          "output_type": "display_data",
          "data": {
            "text/plain": [
              "<Figure size 640x480 with 1 Axes>"
            ],
            "image/png": "[encoded data removed]"
          },
          "metadata": {}
        }
      ],
      "source": [
        "from sklearn.metrics import roc_curve, auc\n",
        "fpr = dict()\n",
        "tpr = dict()\n",
        "roc_auc = dict()\n",
        "for i in range(2):\n",
        "    fpr[i], tpr[i], _ = roc_curve(y_test, y_pred)\n",
        "    roc_auc[i] = auc(fpr[i], tpr[i])\n",
        "\n",
        "fpr[\"micro\"], tpr[\"micro\"], _ = roc_curve(y_test.ravel(), y_pred.ravel())\n",
        "roc_auc[\"micro\"] = auc(fpr[\"micro\"], tpr[\"micro\"])\n",
        "\n",
        "#roc plot for specific class\n",
        "plt.figure()\n",
        "lw = 2\n",
        "plt.plot(fpr[0], tpr[0], color='darkorange',\n",
        "         lw=lw, label='ROC curve (area = %0.2f)' % roc_auc[0])\n",
        "plt.plot([0, 1], [0, 1], color='navy', lw=lw, linestyle='--')\n",
        "plt.xlim([0.0, 1.0])\n",
        "plt.ylim([0.0, 1.05])\n",
        "plt.xlabel('False Positive Rate')\n",
        "plt.ylabel('True Positive Rate')\n",
        "plt.title('ROC')\n",
        "plt.legend(loc=\"lower right\")\n",
        "plt.show()"
      ]
    },
    {
      "cell_type": "code",
      "execution_count": 36,
      "id": "25c2ac0d",
      "metadata": {
        "execution": {
          "iopub.execute_input": "2022-02-10T13:16:35.843193Z",
          "iopub.status.busy": "2022-02-10T13:16:35.841932Z",
          "iopub.status.idle": "2022-02-10T13:16:37.494272Z",
          "shell.execute_reply": "2022-02-10T13:16:37.494736Z",
          "shell.execute_reply.started": "2021-11-20T15:42:06.246619Z"
        },
        "papermill": {
          "duration": 4.74798,
          "end_time": "2022-02-10T13:16:37.494895",
          "exception": false,
          "start_time": "2022-02-10T13:16:32.746915",
          "status": "completed"
        },
        "tags": [],
        "colab": {
          "base_uri": "https://localhost:8080/"
        },
        "id": "25c2ac0d",
        "outputId": "37935483-e1e3-495c-9d83-3d3eb7105c3d"
      },
      "outputs": [
        {
          "output_type": "stream",
          "name": "stdout",
          "text": [
            "416/416 [==============================] - 5s 12ms/step\n",
            "0.9787139228560091\n"
          ]
        }
      ],
      "source": [
        "from sklearn.metrics import roc_auc_score\n",
        "pred_prob = model.predict(x_test)\n",
        "#auc scores\n",
        "auc_score = roc_auc_score(y_test, pred_prob)\n",
        "print(auc_score)"
      ]
    },
    {
      "cell_type": "code",
      "execution_count": 37,
      "id": "fdd61035",
      "metadata": {
        "_cell_guid": "d350520c-13f8-4ae2-9ee9-2510f7564410",
        "_uuid": "a8ad0e81-5d54-4cc6-80d9-cc18c9bd5ca0",
        "execution": {
          "iopub.execute_input": "2022-02-10T13:16:44.019867Z",
          "iopub.status.busy": "2022-02-10T13:16:44.019084Z",
          "iopub.status.idle": "2022-02-10T13:16:44.051086Z",
          "shell.execute_reply": "2022-02-10T13:16:44.050132Z",
          "shell.execute_reply.started": "2021-11-20T15:42:10.11432Z"
        },
        "jupyter": {
          "outputs_hidden": false
        },
        "papermill": {
          "duration": 3.419592,
          "end_time": "2022-02-10T13:16:44.051223",
          "exception": false,
          "start_time": "2022-02-10T13:16:40.631631",
          "status": "completed"
        },
        "tags": [],
        "id": "fdd61035"
      },
      "outputs": [],
      "source": [
        "save_model = True\n",
        "if save_model:\n",
        "    save_model_path = \"/content/drive/MyDrive/archive/Prashant/\"\n",
        "    model.save(\"pretrained_model.h5\")"
      ]
    },
    {
      "cell_type": "code",
      "execution_count": 37,
      "id": "84321a1b",
      "metadata": {
        "papermill": {
          "duration": 3.562762,
          "end_time": "2022-02-10T13:16:50.681797",
          "exception": false,
          "start_time": "2022-02-10T13:16:47.119035",
          "status": "completed"
        },
        "tags": [],
        "id": "84321a1b"
      },
      "outputs": [],
      "source": []
    }
  ],
  "metadata": {
    "kernelspec": {
      "display_name": "Python 3",
      "name": "python3"
    },
    "language_info": {
      "codemirror_mode": {
        "name": "ipython",
        "version": 3
      },
      "file_extension": ".py",
      "mimetype": "text/x-python",
      "name": "python",
      "nbconvert_exporter": "python",
      "pygments_lexer": "ipython3",
      "version": "3.7.10"
    },
    "papermill": {
      "default_parameters": {},
      "duration": 1004.656164,
      "end_time": "2022-02-10T13:16:56.922084",
      "environment_variables": {},
      "exception": null,
      "input_path": "__notebook__.ipynb",
      "output_path": "__notebook__.ipynb",
      "parameters": {},
      "start_time": "2022-02-10T13:00:12.265920",
      "version": "2.3.3"
    },
    "colab": {
      "provenance": [],
      "gpuType": "T4"
    },
    "accelerator": "GPU"
  },
  "nbformat": 4,
  "nbformat_minor": 5
}